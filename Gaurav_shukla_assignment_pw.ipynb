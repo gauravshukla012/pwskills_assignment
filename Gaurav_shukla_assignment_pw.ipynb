{
  "nbformat": 4,
  "nbformat_minor": 0,
  "metadata": {
    "colab": {
      "provenance": []
    },
    "kernelspec": {
      "name": "python3",
      "display_name": "Python 3"
    },
    "language_info": {
      "name": "python"
    }
  },
  "cells": [
    {
      "cell_type": "markdown",
      "source": [
        "Que 1. Write a code to reverse a string."
      ],
      "metadata": {
        "id": "-Q7P257KS-Pn"
      }
    },
    {
      "cell_type": "code",
      "execution_count": null,
      "metadata": {
        "id": "IFcnCAbkSsvX"
      },
      "outputs": [],
      "source": [
        "s = \"Gaurav Shukla\"\n",
        "reversed_s = s[::-1]"
      ]
    },
    {
      "cell_type": "code",
      "source": [
        "print(reversed_s)"
      ],
      "metadata": {
        "colab": {
          "base_uri": "https://localhost:8080/"
        },
        "id": "dqIqSu9WR1tR",
        "outputId": "41774768-4ca4-4634-f8e0-6568ca37e6df"
      },
      "execution_count": null,
      "outputs": [
        {
          "output_type": "stream",
          "name": "stdout",
          "text": [
            "alkuhS varuaG\n"
          ]
        }
      ]
    },
    {
      "cell_type": "markdown",
      "source": [
        "Que 2. Write a code to count the number of vowels in a string."
      ],
      "metadata": {
        "id": "BxcpWdiFTSG4"
      }
    },
    {
      "cell_type": "code",
      "source": [
        "def count_vowels(enter_string):\n",
        "  vowels = \"aeiouAEIOU\"\n",
        "  count = 0\n",
        "  for i in enter_string:\n",
        "    if i in vowels:\n",
        "      count = count + 1\n",
        "  return count"
      ],
      "metadata": {
        "id": "ZIJ1mM7gTK2t"
      },
      "execution_count": null,
      "outputs": []
    },
    {
      "cell_type": "code",
      "source": [
        "count_vowels(\"gaurav shukla\")"
      ],
      "metadata": {
        "colab": {
          "base_uri": "https://localhost:8080/"
        },
        "id": "iBp6NOUwT9ay",
        "outputId": "e396f3b3-363d-47a9-83d3-e87da9d2065b"
      },
      "execution_count": null,
      "outputs": [
        {
          "output_type": "execute_result",
          "data": {
            "text/plain": [
              "5"
            ]
          },
          "metadata": {},
          "execution_count": 4
        }
      ]
    },
    {
      "cell_type": "markdown",
      "source": [
        "Que 3. Write a code to check if a given string is a palindrome or not."
      ],
      "metadata": {
        "id": "ngVF369EWUww"
      }
    },
    {
      "cell_type": "code",
      "source": [
        "def palindrome_or_not(string):\n",
        "  if string[::] == string[::-1]:\n",
        "    print(\"given string is a palindrome\")\n",
        "  else:\n",
        "    print(\"given string is not a palindrome\")"
      ],
      "metadata": {
        "id": "WEa-RIMzUCrL"
      },
      "execution_count": null,
      "outputs": []
    },
    {
      "cell_type": "code",
      "source": [
        "palindrome_or_not(\"gaurav shukla\")"
      ],
      "metadata": {
        "colab": {
          "base_uri": "https://localhost:8080/"
        },
        "id": "H7nyl3JyW1sb",
        "outputId": "1a2609bc-de57-41d0-f6fe-9c6ad8932b65"
      },
      "execution_count": null,
      "outputs": [
        {
          "output_type": "stream",
          "name": "stdout",
          "text": [
            "given string is not a palindrome\n"
          ]
        }
      ]
    },
    {
      "cell_type": "code",
      "source": [
        "palindrome_or_not(\"atta\")"
      ],
      "metadata": {
        "colab": {
          "base_uri": "https://localhost:8080/"
        },
        "id": "4eWz5ZXIW2ja",
        "outputId": "0558b313-9879-4f1e-fc8e-4a1db7770905"
      },
      "execution_count": null,
      "outputs": [
        {
          "output_type": "stream",
          "name": "stdout",
          "text": [
            "given string is a palindrome\n"
          ]
        }
      ]
    },
    {
      "cell_type": "markdown",
      "source": [
        "Que 4. Write a code to check if two given strings are anagrams of each other."
      ],
      "metadata": {
        "id": "cLp302-ZYDuC"
      }
    },
    {
      "cell_type": "code",
      "source": [
        "def anagrams_or_not(string1, string2):\n",
        "  # I am removing spaces and converting the string in lowercase to get case insensitive comparison.\n",
        "\n",
        "  string1 = string1.replace(\" \",\"\").lower()\n",
        "  string2 = string2.replace(\" \",\"\").lower()\n",
        "\n",
        "  # now sorting the strings to arrange the aplhabets in sequence.\n",
        "\n",
        "  sorted_string1 = sorted(string1)\n",
        "  sorted_string2 = sorted(string2)\n",
        "\n",
        "  if sorted_string1 == sorted_string2:\n",
        "    print(\"anagrams of each other\")\n",
        "  else:\n",
        "    print(\"not anagrams of each other\")\n"
      ],
      "metadata": {
        "id": "eyCVCiQ7W41u"
      },
      "execution_count": null,
      "outputs": []
    },
    {
      "cell_type": "code",
      "source": [
        "anagrams_or_not(\"SilEnt\",\"LIsteN\")"
      ],
      "metadata": {
        "colab": {
          "base_uri": "https://localhost:8080/"
        },
        "id": "wdQkJGNUW7KL",
        "outputId": "6fa31e99-97f5-42e4-ae9f-b932d6326a4f"
      },
      "execution_count": null,
      "outputs": [
        {
          "output_type": "stream",
          "name": "stdout",
          "text": [
            "anagrams of each other\n"
          ]
        }
      ]
    },
    {
      "cell_type": "markdown",
      "source": [
        "Que 5. Write a code to find all the occurrenses of a given substring within another string."
      ],
      "metadata": {
        "id": "lXg6JKKpbvKi"
      }
    },
    {
      "cell_type": "code",
      "source": [
        "def occurrences_find(str1, substr1):\n",
        "  occurrence = []\n",
        "  start_index = 0\n",
        "\n",
        "  while True:\n",
        "    index = str1.find(substr1, start_index)\n",
        "    if index == -1:\n",
        "      break\n",
        "\n",
        "    occurrence.append(index)\n",
        "    start_index = index + 1\n",
        "\n",
        "  return occurrence"
      ],
      "metadata": {
        "id": "C6cDj5bcZEyL"
      },
      "execution_count": null,
      "outputs": []
    },
    {
      "cell_type": "code",
      "source": [
        "occurrences_find(\"hey, this is me. hey,hey!\",\"h\")\n",
        "\n",
        "# here the output is showing that the substr1 \"h\" came at 0,6,17,21 indices in str1."
      ],
      "metadata": {
        "colab": {
          "base_uri": "https://localhost:8080/"
        },
        "id": "2ZtjG4kgekWM",
        "outputId": "71739dbe-7200-4b5a-bd0f-6ab35d1d1f74"
      },
      "execution_count": null,
      "outputs": [
        {
          "output_type": "execute_result",
          "data": {
            "text/plain": [
              "[0, 6, 17, 21]"
            ]
          },
          "metadata": {},
          "execution_count": 11
        }
      ]
    },
    {
      "cell_type": "markdown",
      "source": [
        "Que 6. Write a code to perform basic string compression using the counts of repeated characters."
      ],
      "metadata": {
        "id": "Psqwv10nVQls"
      }
    },
    {
      "cell_type": "code",
      "source": [
        "def compress_string(s):\n",
        "    compressed_string = str()\n",
        "    count = 1\n",
        "    for i in range(len(s)):\n",
        "        if i < len(s) - 1 and s[i] == s[i + 1]:\n",
        "            count += 1\n",
        "        else:\n",
        "            compressed_string += s[i] + str(count)\n",
        "            count = 1\n",
        "\n",
        "    # Check if the compressed string is shorter than the original string\n",
        "\n",
        "    if len(compressed_string) < len(s):\n",
        "        return compressed_string\n",
        "    else:\n",
        "        return s\n",
        "\n"
      ],
      "metadata": {
        "id": "AwtvdrxueuUk"
      },
      "execution_count": null,
      "outputs": []
    },
    {
      "cell_type": "code",
      "source": [
        "# Example usage:\n",
        "original_string = \"aabcccccaaa\"\n",
        "compressed = compress_string(original_string)\n",
        "print(\"Compressed string:\", compressed)\n"
      ],
      "metadata": {
        "colab": {
          "base_uri": "https://localhost:8080/"
        },
        "id": "-IN2Yl0fXGSV",
        "outputId": "76426d14-1ae1-42b9-f08e-eb6275455806"
      },
      "execution_count": null,
      "outputs": [
        {
          "output_type": "stream",
          "name": "stdout",
          "text": [
            "Compressed string: a2b1c5a3\n"
          ]
        }
      ]
    },
    {
      "cell_type": "markdown",
      "source": [
        "Que 7. Write a code to determine if a string has all unique characters."
      ],
      "metadata": {
        "id": "bVDetiVvash7"
      }
    },
    {
      "cell_type": "code",
      "source": [
        "def is_unique(str1):\n",
        "    if len(set(str1)) == len(str1):\n",
        "      print(\"String is unique\")\n",
        "    else:\n",
        "      print(\"String is not unique\")"
      ],
      "metadata": {
        "id": "CjIe7I4gXIBL"
      },
      "execution_count": null,
      "outputs": []
    },
    {
      "cell_type": "code",
      "source": [
        "is_unique(\"gaurav\")"
      ],
      "metadata": {
        "colab": {
          "base_uri": "https://localhost:8080/"
        },
        "id": "Rcir0MDxacJu",
        "outputId": "3d069765-1c30-43a5-ef06-cecd9167548e"
      },
      "execution_count": null,
      "outputs": [
        {
          "output_type": "stream",
          "name": "stdout",
          "text": [
            "String is not unique\n"
          ]
        }
      ]
    },
    {
      "cell_type": "markdown",
      "source": [
        "Que 8. Write a code to convert a string to uppercase or lowecase."
      ],
      "metadata": {
        "id": "Zv-itFgEctDH"
      }
    },
    {
      "cell_type": "code",
      "source": [
        "str12 = \"PwSkiLLs\"\n",
        "print(str12.upper()),\n",
        "print(str12.lower())"
      ],
      "metadata": {
        "id": "nCzY6EmFoQZc",
        "colab": {
          "base_uri": "https://localhost:8080/"
        },
        "outputId": "5b6c3125-560b-4005-dd71-451110a13ea4"
      },
      "execution_count": null,
      "outputs": [
        {
          "output_type": "stream",
          "name": "stdout",
          "text": [
            "PWSKILLS\n",
            "pwskills\n"
          ]
        }
      ]
    },
    {
      "cell_type": "markdown",
      "source": [
        "Que 9. Write a code to count the number of words in a string."
      ],
      "metadata": {
        "id": "BxxUk1UFdT2p"
      }
    },
    {
      "cell_type": "markdown",
      "source": [
        "note : In the code I provided, s.split() is used to split the input string s into a list of words. The split() method is a built-in Python method that splits a string into a list of substrings based on a specified delimiter. If no delimiter is specified, as in this case, the default delimiter is whitespace"
      ],
      "metadata": {
        "id": "Yax32kFneuD2"
      }
    },
    {
      "cell_type": "code",
      "source": [
        "def count_words(s):\n",
        "    words = s.split()\n",
        "    return len(words)\n"
      ],
      "metadata": {
        "id": "0JR5kAkUdKEw"
      },
      "execution_count": null,
      "outputs": []
    },
    {
      "cell_type": "code",
      "source": [
        "count_words(\"hey! where are you going?\")"
      ],
      "metadata": {
        "colab": {
          "base_uri": "https://localhost:8080/"
        },
        "id": "oHvt-2rYe49A",
        "outputId": "81d6f176-9f42-4427-bcc0-73c3eb7b82dd"
      },
      "execution_count": null,
      "outputs": [
        {
          "output_type": "execute_result",
          "data": {
            "text/plain": [
              "5"
            ]
          },
          "metadata": {},
          "execution_count": 18
        }
      ]
    },
    {
      "cell_type": "markdown",
      "source": [
        "Que 10. Write a code to concatenate two strings without using + operator."
      ],
      "metadata": {
        "id": "HW3_qL4PetZ-"
      }
    },
    {
      "cell_type": "code",
      "source": [
        "def concatenate_strings(s1, s2):\n",
        "    result = str()\n",
        "    for char in s1:\n",
        "        result += char\n",
        "    for char in s2:\n",
        "        result += char\n",
        "    return result\n"
      ],
      "metadata": {
        "id": "h7Y6F5kbdlo6"
      },
      "execution_count": null,
      "outputs": []
    },
    {
      "cell_type": "code",
      "source": [
        "concatenate_strings(\"Hello\", \"Hey\")"
      ],
      "metadata": {
        "colab": {
          "base_uri": "https://localhost:8080/",
          "height": 36
        },
        "id": "05BctRSwdtgQ",
        "outputId": "6d7124d8-5278-4511-d17e-5d05c1566ec1"
      },
      "execution_count": null,
      "outputs": [
        {
          "output_type": "execute_result",
          "data": {
            "text/plain": [
              "'HelloHey'"
            ],
            "application/vnd.google.colaboratory.intrinsic+json": {
              "type": "string"
            }
          },
          "metadata": {},
          "execution_count": 20
        }
      ]
    },
    {
      "cell_type": "markdown",
      "source": [
        "Que 11. Write a code to remove all occurrenences of a specific element from a list."
      ],
      "metadata": {
        "id": "IyKGOs0N4r5_"
      }
    },
    {
      "cell_type": "code",
      "source": [
        "def remove_element(lis, element):\n",
        "    return [x for x in lis if x != element]"
      ],
      "metadata": {
        "id": "FeRM_GVyfstg"
      },
      "execution_count": null,
      "outputs": []
    },
    {
      "cell_type": "code",
      "source": [
        "list1 = [1,11,2,1,3,4,15,1,16,90,1,1]\n",
        "\n",
        "remove_element(list1, 1)"
      ],
      "metadata": {
        "colab": {
          "base_uri": "https://localhost:8080/"
        },
        "id": "QfbdwG-66hmE",
        "outputId": "eb640899-df17-439b-e94c-ad6c8f3066cd"
      },
      "execution_count": null,
      "outputs": [
        {
          "output_type": "execute_result",
          "data": {
            "text/plain": [
              "[11, 2, 3, 4, 15, 16, 90]"
            ]
          },
          "metadata": {},
          "execution_count": 22
        }
      ]
    },
    {
      "cell_type": "markdown",
      "source": [
        "Que 12. Implement a code to find the second largest number in a given list of intergers."
      ],
      "metadata": {
        "id": "qPtHywJ76vzy"
      }
    },
    {
      "cell_type": "code",
      "source": [
        "def second_largest(lst):\n",
        "    # Converting the list to a set to remove all the duplicates\n",
        "    unique_nums = set(lst)\n",
        "\n",
        "    # If there are less than two unique elements, return an appropriate message\n",
        "    if len(unique_nums) < 2:\n",
        "        return \"No second largest element found\"\n",
        "\n",
        "    # Sorting the unique numbers in descending order and return the second element\n",
        "    sorted_nums = sorted(unique_nums, reverse=True)\n",
        "    return sorted_nums[1]"
      ],
      "metadata": {
        "id": "8Vi9RdCg6st6"
      },
      "execution_count": null,
      "outputs": []
    },
    {
      "cell_type": "code",
      "source": [
        "list1 = [1,11,2,1,3,4,15,1,16,90,1,1]\n",
        "\n",
        "second_largest(list1)"
      ],
      "metadata": {
        "colab": {
          "base_uri": "https://localhost:8080/"
        },
        "id": "O09NMUVB8Rs8",
        "outputId": "dc06ec36-c4aa-4608-8edf-e1e2d7c0faf2"
      },
      "execution_count": null,
      "outputs": [
        {
          "output_type": "execute_result",
          "data": {
            "text/plain": [
              "16"
            ]
          },
          "metadata": {},
          "execution_count": 24
        }
      ]
    },
    {
      "cell_type": "markdown",
      "source": [
        "Que 13. Write a code to count all occurrenences of a specific element from a list and retrun a dictionary with element as keys and their count as values."
      ],
      "metadata": {
        "id": "zWYC_Nc18lki"
      }
    },
    {
      "cell_type": "code",
      "source": [
        "def count_occurrences(lst):\n",
        "    # Initialize an empty dictionary to store counts\n",
        "    counts = {}\n",
        "\n",
        "    # Iterate through the list\n",
        "    for element in lst:\n",
        "        # Check if the element is already in the dictionary\n",
        "        if element in counts:\n",
        "            # If yes, increment its count\n",
        "            counts[element] += 1\n",
        "        else:\n",
        "            # If no, add it to the dictionary with count 1\n",
        "            counts[element] = 1\n",
        "\n",
        "    return counts\n"
      ],
      "metadata": {
        "id": "e_NlsPE48hoz"
      },
      "execution_count": null,
      "outputs": []
    },
    {
      "cell_type": "code",
      "source": [
        "list2 = [1,2,3,1,2,3,11,2,3,21,14,15,9,8,79,87,4,3,2,1]\n",
        "\n",
        "count_occurrences(list2)"
      ],
      "metadata": {
        "colab": {
          "base_uri": "https://localhost:8080/"
        },
        "id": "ykHKJJ9fA0s1",
        "outputId": "15141587-b8df-468b-a049-d457d7270013"
      },
      "execution_count": null,
      "outputs": [
        {
          "output_type": "execute_result",
          "data": {
            "text/plain": [
              "{1: 3, 2: 4, 3: 4, 11: 1, 21: 1, 14: 1, 15: 1, 9: 1, 8: 1, 79: 1, 87: 1, 4: 1}"
            ]
          },
          "metadata": {},
          "execution_count": 26
        }
      ]
    },
    {
      "cell_type": "markdown",
      "source": [
        "Que 14. Write a code to reverse a list in-place without using any built in reverse function."
      ],
      "metadata": {
        "id": "gVXBzYkLBDY2"
      }
    },
    {
      "cell_type": "code",
      "source": [
        "list3 = [1,2,3,4,5,6,7,8,9]\n",
        "reversed_list3 = list3[::-1]"
      ],
      "metadata": {
        "id": "Wta6EIQwA_hK"
      },
      "execution_count": null,
      "outputs": []
    },
    {
      "cell_type": "code",
      "source": [
        "reversed_list3"
      ],
      "metadata": {
        "colab": {
          "base_uri": "https://localhost:8080/"
        },
        "id": "ROXdS2cKBfiL",
        "outputId": "14798db6-be3c-411c-84d9-186104a4b93d"
      },
      "execution_count": null,
      "outputs": [
        {
          "output_type": "execute_result",
          "data": {
            "text/plain": [
              "[9, 8, 7, 6, 5, 4, 3, 2, 1]"
            ]
          },
          "metadata": {},
          "execution_count": 28
        }
      ]
    },
    {
      "cell_type": "markdown",
      "source": [
        "Que 15. Implement a code to find and remove duplicates from a list while preserving the original order of elements."
      ],
      "metadata": {
        "id": "sRh0jsQMCHp0"
      }
    },
    {
      "cell_type": "code",
      "source": [
        "def remove_duplicates_preserve_order(lst):\n",
        "    # Initialize an empty list to store unique elements\n",
        "    unique_elements = []\n",
        "\n",
        "    # Iterate through the list\n",
        "    for ele in lst:\n",
        "        # If the element is not in the list of unique elements, add it\n",
        "        if ele not in unique_elements:\n",
        "            unique_elements.append(ele)\n",
        "\n",
        "    return unique_elements\n"
      ],
      "metadata": {
        "id": "wRYQNGWuBlyr"
      },
      "execution_count": null,
      "outputs": []
    },
    {
      "cell_type": "code",
      "source": [
        "list2 = [1,2,3,1,2,3,11,2,3,21,14,15,9,8,79,87,4,3,2,1]\n",
        "\n",
        "remove_duplicates_preserve_order(list2)"
      ],
      "metadata": {
        "colab": {
          "base_uri": "https://localhost:8080/"
        },
        "id": "j-OgWphpDKRZ",
        "outputId": "4000627b-674f-416b-ca5a-a2f7dcb31178"
      },
      "execution_count": null,
      "outputs": [
        {
          "output_type": "execute_result",
          "data": {
            "text/plain": [
              "[1, 2, 3, 11, 21, 14, 15, 9, 8, 79, 87, 4]"
            ]
          },
          "metadata": {},
          "execution_count": 30
        }
      ]
    },
    {
      "cell_type": "markdown",
      "source": [
        "Que 16. Create a code to check if a given list is sorted ( in ascending or descending order ) or not."
      ],
      "metadata": {
        "id": "TbOgjSryE_ID"
      }
    },
    {
      "cell_type": "code",
      "source": [
        "def is_sorted(lst):\n",
        "    # Check if the list is sorted in ascending order\n",
        "    if lst == sorted(lst):\n",
        "        return \"Already Sorted in Ascending\"\n",
        "    # Check if the list is sorted in descending order\n",
        "    elif lst == sorted(lst, reverse=True):\n",
        "        return \"Already Sorted in Descending\"\n",
        "    else:\n",
        "        return \"Unsorted\""
      ],
      "metadata": {
        "id": "-H1A2fs-DUEa"
      },
      "execution_count": null,
      "outputs": []
    },
    {
      "cell_type": "code",
      "source": [
        "is_sorted([1,2,3,4,5,6,7])"
      ],
      "metadata": {
        "colab": {
          "base_uri": "https://localhost:8080/",
          "height": 36
        },
        "id": "5q3gEgU-F5Rp",
        "outputId": "fd6dc30e-8c80-4c85-e1ee-91c842865899"
      },
      "execution_count": null,
      "outputs": [
        {
          "output_type": "execute_result",
          "data": {
            "text/plain": [
              "'Already Sorted in Ascending'"
            ],
            "application/vnd.google.colaboratory.intrinsic+json": {
              "type": "string"
            }
          },
          "metadata": {},
          "execution_count": 36
        }
      ]
    },
    {
      "cell_type": "markdown",
      "source": [
        "Que 17. Write a code to merge two sorted list into a single sorted list."
      ],
      "metadata": {
        "id": "YCWoHNgUHvPF"
      }
    },
    {
      "cell_type": "code",
      "source": [
        "def two_sorted_list(list1, list2):\n",
        "  # Sorting both list\n",
        "  list1 = sorted(list1)\n",
        "  list2 = sorted(list2)\n",
        "\n",
        "  # Concatenating the both lists\n",
        "  concatenated_list = list1 + list2\n",
        "\n",
        "  return sorted(concatenated_list)\n",
        "\n"
      ],
      "metadata": {
        "id": "exdlkkn9F9hI"
      },
      "execution_count": null,
      "outputs": []
    },
    {
      "cell_type": "code",
      "source": [
        "two_sorted_list([1,3,4,7,9], [11,34,2,10,5])"
      ],
      "metadata": {
        "colab": {
          "base_uri": "https://localhost:8080/"
        },
        "id": "Q-ayibkcHAdJ",
        "outputId": "25c476f0-a4ab-4851-99b3-526079e2ea50"
      },
      "execution_count": null,
      "outputs": [
        {
          "output_type": "execute_result",
          "data": {
            "text/plain": [
              "[1, 2, 3, 4, 5, 7, 9, 10, 11, 34]"
            ]
          },
          "metadata": {},
          "execution_count": 40
        }
      ]
    },
    {
      "cell_type": "markdown",
      "source": [
        "Que 18. Implement a code to find the intersection of two given lists."
      ],
      "metadata": {
        "id": "-yfKLmC7IVEQ"
      }
    },
    {
      "cell_type": "code",
      "source": [
        "def find_intersection(list1, list2):\n",
        "    intersection = []\n",
        "    for item in list1:\n",
        "        if item in list2 and item not in intersection:\n",
        "            intersection.append(item)\n",
        "    return intersection"
      ],
      "metadata": {
        "id": "QCr-RJG_J67_"
      },
      "execution_count": null,
      "outputs": []
    },
    {
      "cell_type": "code",
      "source": [
        " lst1 = [2,4,6,8,1,3,5,7]\n",
        " lst2 = [11,14,16,9,8,7,6,5,21]\n",
        "\n",
        " find_intersection(lst1, lst2)"
      ],
      "metadata": {
        "colab": {
          "base_uri": "https://localhost:8080/"
        },
        "id": "SmUSPa3wJJdC",
        "outputId": "0b7a0614-b732-4cd7-e709-305a8c6a19e4"
      },
      "execution_count": null,
      "outputs": [
        {
          "output_type": "execute_result",
          "data": {
            "text/plain": [
              "[6, 8, 5, 7]"
            ]
          },
          "metadata": {},
          "execution_count": 47
        }
      ]
    },
    {
      "cell_type": "markdown",
      "source": [
        "Que 19. Create a code to find the union of two lists without duplicates."
      ],
      "metadata": {
        "id": "DCeIqX40KVUN"
      }
    },
    {
      "cell_type": "code",
      "source": [
        "def find_union(list1, list2):\n",
        "  # removing duplecates\n",
        "\n",
        "  list1 = set(list1)\n",
        "  list2 = set(list2)\n",
        "\n",
        "  return list(list1 | list2)"
      ],
      "metadata": {
        "id": "O2PNHsgwKO4-"
      },
      "execution_count": null,
      "outputs": []
    },
    {
      "cell_type": "code",
      "source": [],
      "metadata": {
        "id": "qL9gY76wJa8P"
      },
      "execution_count": null,
      "outputs": []
    },
    {
      "cell_type": "code",
      "source": [
        " lst1 = [2,4,6,8,1,3,5,7]\n",
        " lst2 = [11,14,16,9,8,7,6,5,21]\n",
        "\n",
        " find_union(lst1, lst2)"
      ],
      "metadata": {
        "colab": {
          "base_uri": "https://localhost:8080/"
        },
        "outputId": "9fdfe38f-a7f5-417a-a983-a510e9b06fa8",
        "id": "hKagWZxqK7qR"
      },
      "execution_count": null,
      "outputs": [
        {
          "output_type": "execute_result",
          "data": {
            "text/plain": [
              "[1, 2, 3, 4, 5, 6, 7, 8, 9, 11, 14, 16, 21]"
            ]
          },
          "metadata": {},
          "execution_count": 49
        }
      ]
    },
    {
      "cell_type": "markdown",
      "source": [
        "Que 20. Write a code to shuffle any given list without using any built-in shuffle functions."
      ],
      "metadata": {
        "id": "xNU7PvCILBl-"
      }
    },
    {
      "cell_type": "code",
      "source": [
        "import random\n",
        "\n",
        "def shuffle_list(lst):\n",
        "    return random.sample(lst, len(lst))"
      ],
      "metadata": {
        "id": "LXZ5Hek8K-GY"
      },
      "execution_count": null,
      "outputs": []
    },
    {
      "cell_type": "code",
      "source": [
        "shuffle_list([1,2,3,4,5,6,7,8,9])"
      ],
      "metadata": {
        "colab": {
          "base_uri": "https://localhost:8080/"
        },
        "id": "r_ryv6FaMOxi",
        "outputId": "4f2998d6-ebb7-46e6-92f5-5d444a7b65e0"
      },
      "execution_count": null,
      "outputs": [
        {
          "output_type": "execute_result",
          "data": {
            "text/plain": [
              "[6, 7, 8, 1, 9, 2, 3, 4, 5]"
            ]
          },
          "metadata": {},
          "execution_count": 51
        }
      ]
    },
    {
      "cell_type": "markdown",
      "source": [
        "Que 21. Write a code that takes two tuples as input and return a new tuple containing elements that are common to both input tuples."
      ],
      "metadata": {
        "id": "UGraczG0MXfu"
      }
    },
    {
      "cell_type": "code",
      "source": [
        "def common_ele_tup(t1=None, t2=None):\n",
        "    if t1 is None:\n",
        "        t1 = input(\"Enter elements separated by commas: \")\n",
        "    if t2 is None:\n",
        "        t2 = input(\"Enter elements separated by commas: \")\n",
        "\n",
        "    elements_1 = t1.split(',')\n",
        "    elements_2 = t2.split(',')\n",
        "\n",
        "    intersected_lst = [ele for ele in elements_1 if ele in elements_2]\n",
        "\n",
        "    return tuple(intersected_lst)"
      ],
      "metadata": {
        "id": "ew3Vqg4SN36b"
      },
      "execution_count": null,
      "outputs": []
    },
    {
      "cell_type": "code",
      "source": [
        "common_ele_tup()"
      ],
      "metadata": {
        "colab": {
          "base_uri": "https://localhost:8080/"
        },
        "id": "-78bl2LVS7a8",
        "outputId": "f67b42c4-74fb-49bc-d60d-20cc0656fc25"
      },
      "execution_count": null,
      "outputs": [
        {
          "name": "stdout",
          "output_type": "stream",
          "text": [
            "Enter elements separated by commas: 1,2,3,4,5\n",
            "Enter elements separated by commas: 3,4,5,6,7,8\n"
          ]
        },
        {
          "output_type": "execute_result",
          "data": {
            "text/plain": [
              "('3', '4', '5')"
            ]
          },
          "metadata": {},
          "execution_count": 64
        }
      ]
    },
    {
      "cell_type": "markdown",
      "source": [
        "Que 22. Create a code that prompt the user to enter two sets of integer separated by commas. Then print the intersection of these two sets."
      ],
      "metadata": {
        "id": "loncB91CUM5Z"
      }
    },
    {
      "cell_type": "code",
      "source": [
        "def intersection_of_sets(s1=None,s2=None):\n",
        "\n",
        "  if s1 is None:\n",
        "    s1 = input(\"enter a set of integer seperated by commas\")\n",
        "  if s2 is None:\n",
        "    s2 = input(\"enter a set of integer seperated by commas\")\n",
        "\n",
        "  ele_1 = s1.split(',')\n",
        "  ele_2 = s2.split(',')\n",
        "\n",
        "  set1 = set(ele_1)\n",
        "  set2 = set(ele_2)\n",
        "\n",
        "  return set1 & set2"
      ],
      "metadata": {
        "id": "gCqRY9SST2h7"
      },
      "execution_count": null,
      "outputs": []
    },
    {
      "cell_type": "code",
      "source": [
        "intersection_of_sets()"
      ],
      "metadata": {
        "colab": {
          "base_uri": "https://localhost:8080/"
        },
        "id": "sV-PeyzNVpus",
        "outputId": "2ab8082b-21d1-4dfd-b66b-6a4c7689eeef"
      },
      "execution_count": null,
      "outputs": [
        {
          "name": "stdout",
          "output_type": "stream",
          "text": [
            "enter a set of integer seperated by commas1,2,3,4,5,6,7,8,9\n",
            "enter a set of integer seperated by commas2,4,6,8\n"
          ]
        },
        {
          "output_type": "execute_result",
          "data": {
            "text/plain": [
              "{'2', '4', '6', '8'}"
            ]
          },
          "metadata": {},
          "execution_count": 69
        }
      ]
    },
    {
      "cell_type": "markdown",
      "source": [
        "Que 23. Write a code to concatenate two tuples. The function should take two tuples as input and return a new tuple containing elements from the both tuples."
      ],
      "metadata": {
        "id": "Fl-tkKr1WCJ5"
      }
    },
    {
      "cell_type": "code",
      "source": [
        "def concate_tup(t1 = None, t2 = None):\n",
        "\n",
        "  if t1 is None:\n",
        "    t1 = input(\"enter integer elements separated by commas \")\n",
        "  if t2 is None:\n",
        "    t2 = input(\"enter integer elements separated by commas \")\n",
        "\n",
        "  elements_1 = t1.split(',')\n",
        "  elements_2 = t2.split(',')\n",
        "\n",
        "  return tuple(set(elements_1) | set(elements_2))"
      ],
      "metadata": {
        "id": "9h7FDBIXVw88"
      },
      "execution_count": null,
      "outputs": []
    },
    {
      "cell_type": "code",
      "source": [
        "concate_tup()"
      ],
      "metadata": {
        "colab": {
          "base_uri": "https://localhost:8080/"
        },
        "id": "7a13f3uSXkTf",
        "outputId": "68617f8e-aa07-439f-ef93-a28243a1dc69"
      },
      "execution_count": null,
      "outputs": [
        {
          "name": "stdout",
          "output_type": "stream",
          "text": [
            "enter integer elements separated by commas 1,2,3,4,5\n",
            "enter integer elements separated by commas 1,2,3,4,5,6,7,8,9,99\n"
          ]
        },
        {
          "output_type": "execute_result",
          "data": {
            "text/plain": [
              "('9', '4', '1', '2', '8', '7', '99', '6', '5', '3')"
            ]
          },
          "metadata": {},
          "execution_count": 72
        }
      ]
    },
    {
      "cell_type": "markdown",
      "source": [
        "Que 24. Develope a code that prompts the user to input two sets of strings. Then print the element that are present in first set but not in second set."
      ],
      "metadata": {
        "id": "SQn9H8SKPMoM"
      }
    },
    {
      "cell_type": "code",
      "source": [
        "def set1_minus_set2(s1 = None, s2 = None):\n",
        "\n",
        "  if s1 is None:\n",
        "    s1 = input(\"enter set of integer element separated by whitespace \")\n",
        "  if s2 is None:\n",
        "    s2 = input(\"enter set of integer element separated by whitespace \")\n",
        "\n",
        "  splited_s1 = s1.split(' ')\n",
        "  splited_s2 = s2.split(' ')\n",
        "\n",
        "  set1 = set(splited_s1)\n",
        "  set2 = set(splited_s2)\n",
        "\n",
        "  return set(set1 - set2)\n"
      ],
      "metadata": {
        "id": "EKmTOmKoXtO9"
      },
      "execution_count": null,
      "outputs": []
    },
    {
      "cell_type": "code",
      "source": [
        "set1_minus_set2()"
      ],
      "metadata": {
        "colab": {
          "base_uri": "https://localhost:8080/"
        },
        "id": "kHWohCUiRNEd",
        "outputId": "8c7de22d-687b-49f2-b716-2447cd6b2965"
      },
      "execution_count": null,
      "outputs": [
        {
          "name": "stdout",
          "output_type": "stream",
          "text": [
            "enter set of integer element separated by whitespace 1 2 3 4 5 6 7 8 9\n",
            "enter set of integer element separated by whitespace 2 4 6 8 \n"
          ]
        },
        {
          "output_type": "execute_result",
          "data": {
            "text/plain": [
              "{'1', '3', '5', '7', '9'}"
            ]
          },
          "metadata": {},
          "execution_count": 3
        }
      ]
    },
    {
      "cell_type": "markdown",
      "source": [
        "Que 25. Create a code that takes a tuple and two integers as input. The function should return a new tuple containing elements form the original tuple within the specified range of indices."
      ],
      "metadata": {
        "id": "b4zWYPRdR7I4"
      }
    },
    {
      "cell_type": "code",
      "source": [
        "def get_elements_in_range(input_tuple, start_index, end_index):\n",
        "    return input_tuple[start_index:end_index + 1]"
      ],
      "metadata": {
        "id": "Z73TQksWRfaj"
      },
      "execution_count": null,
      "outputs": []
    },
    {
      "cell_type": "code",
      "source": [
        "tup1 = (1,2,3,4,5,6,7,8,9,10,11,12,13,14,15,16)\n",
        "start_index = 2\n",
        "end_index = 7\n",
        "get_elements_in_range(tup1, start_index, end_index )"
      ],
      "metadata": {
        "colab": {
          "base_uri": "https://localhost:8080/"
        },
        "id": "OpP2PbLyTBVE",
        "outputId": "2c715201-919e-4056-901c-3ebf1f38db4c"
      },
      "execution_count": null,
      "outputs": [
        {
          "output_type": "execute_result",
          "data": {
            "text/plain": [
              "(3, 4, 5, 6, 7, 8)"
            ]
          },
          "metadata": {},
          "execution_count": 5
        }
      ]
    },
    {
      "cell_type": "markdown",
      "source": [
        "Que 26. Write a code that prompts the user to input two sets of character. Then print the union of these two sets."
      ],
      "metadata": {
        "id": "Tr_pwXOpURa5"
      }
    },
    {
      "cell_type": "code",
      "source": [
        "def get_union_set(s1 = None, s2 = None):\n",
        "  if s1 is None:\n",
        "    s1 = input(\"enter string1 \")\n",
        "  if s2 is None:\n",
        "    s2 = input(\"enter string2 \")\n",
        "\n",
        "  modified_s1 = s1.replace(\" \", \"\").lower()\n",
        "  modified_s2 = s2.replace(\" \", \"\").lower()\n",
        "\n",
        "  set1 = set(modified_s1)\n",
        "  set2 = set(modified_s2)\n",
        "\n",
        "  return set(set1 | set2)"
      ],
      "metadata": {
        "id": "zAVc15ClUEfL"
      },
      "execution_count": null,
      "outputs": []
    },
    {
      "cell_type": "code",
      "source": [
        "get_union_set()"
      ],
      "metadata": {
        "colab": {
          "base_uri": "https://localhost:8080/"
        },
        "id": "Of4PsOJbWEm9",
        "outputId": "31c03026-8b04-4e99-9535-c3e009ff8284"
      },
      "execution_count": null,
      "outputs": [
        {
          "name": "stdout",
          "output_type": "stream",
          "text": [
            "enter string1 GaUrav ShuKla\n",
            "enter string2 VaiBhav shuKLA\n"
          ]
        },
        {
          "output_type": "execute_result",
          "data": {
            "text/plain": [
              "{'a', 'b', 'g', 'h', 'i', 'k', 'l', 'r', 's', 'u', 'v'}"
            ]
          },
          "metadata": {},
          "execution_count": 7
        }
      ]
    },
    {
      "cell_type": "markdown",
      "source": [
        "Que 27. Develop a code that take tuple of integer as input. The function should return the maximum and the minimum values from the tuple using tuple unpacking."
      ],
      "metadata": {
        "id": "rHIqNRfrWQbI"
      }
    },
    {
      "cell_type": "code",
      "source": [
        "def find_max_min(input_tuple):\n",
        "    # Use tuple unpacking to extract maximum and minimum values\n",
        "    maximum = max(input_tuple)\n",
        "    minimum = min(input_tuple)\n",
        "    return maximum, minimum"
      ],
      "metadata": {
        "id": "XbF_q-p4WHlL"
      },
      "execution_count": null,
      "outputs": []
    },
    {
      "cell_type": "code",
      "source": [
        "tup1 = (1,2,3,4,5,6,7,8,9,10,11,12,13,14,15,16)\n",
        "find_max_min(tup1)"
      ],
      "metadata": {
        "colab": {
          "base_uri": "https://localhost:8080/"
        },
        "id": "DsXlONLuXCdU",
        "outputId": "40165e5e-627f-4651-d933-fcb5ce4b45f1"
      },
      "execution_count": null,
      "outputs": [
        {
          "output_type": "execute_result",
          "data": {
            "text/plain": [
              "(16, 1)"
            ]
          },
          "metadata": {},
          "execution_count": 9
        }
      ]
    },
    {
      "cell_type": "markdown",
      "source": [
        "Que 28. Create a code that defines two sets of interger. then print the Union, Intersection, and differences of these two sets."
      ],
      "metadata": {
        "id": "O99IXNTIXMnk"
      }
    },
    {
      "cell_type": "code",
      "source": [
        "set1 = {1, 2, 3, 4, 5}\n",
        "set2 = {4, 5, 6, 7, 8}\n",
        "\n",
        "# Print the sets\n",
        "print(\"Set 1:\", set1)\n",
        "print(\"Set 2:\", set2)\n"
      ],
      "metadata": {
        "colab": {
          "base_uri": "https://localhost:8080/"
        },
        "id": "InZ9RugXXKez",
        "outputId": "e7282319-e59b-49f7-cae2-3ccd834dc423"
      },
      "execution_count": null,
      "outputs": [
        {
          "output_type": "stream",
          "name": "stdout",
          "text": [
            "Set 1: {1, 2, 3, 4, 5}\n",
            "Set 2: {4, 5, 6, 7, 8}\n"
          ]
        }
      ]
    },
    {
      "cell_type": "code",
      "source": [
        "union_set = set1.union(set2)\n",
        "print(\"union of set1 and set2 :\", union_set)\n",
        "\n",
        "intersection_of_set = set1.intersection(set2)\n",
        "print(\"intersection of set1 and set2 :\", intersection_of_set)\n",
        "\n",
        "differences_of_set = set1.difference(set2)\n",
        "print(\"difference of set1 and set2 :\", differences_of_set)"
      ],
      "metadata": {
        "colab": {
          "base_uri": "https://localhost:8080/"
        },
        "id": "7gBeAbQsX8jz",
        "outputId": "39c58a48-70d8-41da-8882-8415e5302d67"
      },
      "execution_count": null,
      "outputs": [
        {
          "output_type": "stream",
          "name": "stdout",
          "text": [
            "union of set1 and set2 : {1, 2, 3, 4, 5, 6, 7, 8}\n",
            "intersection of set1 and set2 : {4, 5}\n",
            "difference of set1 and set2 : {1, 2, 3}\n"
          ]
        }
      ]
    },
    {
      "cell_type": "markdown",
      "source": [
        "Que 29. Write a code that take a tuple and an element as input. The function should return the count of occurrences of that element in the tuple."
      ],
      "metadata": {
        "id": "wf6HYCQBY_HD"
      }
    },
    {
      "cell_type": "code",
      "source": [
        "def count_occurrences2(input_tuple, element):\n",
        "    return input_tuple.count(element)"
      ],
      "metadata": {
        "id": "jQAhZOa3bVC5"
      },
      "execution_count": null,
      "outputs": []
    },
    {
      "cell_type": "code",
      "source": [
        "tuple_1 = (1,2,11,1,17,7,76,1,34,98,18,19,12)\n",
        "element_ = 1\n",
        "\n",
        "count_occurrences2(tuple_1, element_)"
      ],
      "metadata": {
        "colab": {
          "base_uri": "https://localhost:8080/"
        },
        "id": "I2iBYsucaYZG",
        "outputId": "dc6a52c9-677d-4680-9a92-948b48da6ba8"
      },
      "execution_count": null,
      "outputs": [
        {
          "output_type": "execute_result",
          "data": {
            "text/plain": [
              "3"
            ]
          },
          "metadata": {},
          "execution_count": 16
        }
      ]
    },
    {
      "cell_type": "markdown",
      "source": [
        "Que 30. Develop a code that prompts the user to input two sets of string. Then print the symmetric difference of these two sets."
      ],
      "metadata": {
        "id": "6Q6QvFs8bboC"
      }
    },
    {
      "cell_type": "code",
      "source": [
        "def symm_diff_of_sets(s1 = None, s2 = None):\n",
        "  if s1 is None:\n",
        "    s1 = input(\"enter integer string separated by comma :\")\n",
        "  if s2 is None:\n",
        "    s2 = input(\"enter integer string separated by comma :\")\n",
        "\n",
        "  set1 = s1.split(',')\n",
        "  set2 = s2.split(',')\n",
        "\n",
        "  set1 = set(set1)\n",
        "  set2 = set(set2)\n",
        "\n",
        "  return list(set1.symmetric_difference(set2))"
      ],
      "metadata": {
        "id": "bQwfgYnqauU8"
      },
      "execution_count": null,
      "outputs": []
    },
    {
      "cell_type": "code",
      "source": [
        "symm_diff_of_sets()"
      ],
      "metadata": {
        "colab": {
          "base_uri": "https://localhost:8080/"
        },
        "id": "1p2MICzuc1Hn",
        "outputId": "75389239-aba7-44f3-f8e9-36b96c09a5b4"
      },
      "execution_count": null,
      "outputs": [
        {
          "name": "stdout",
          "output_type": "stream",
          "text": [
            "enter integer string separated by comma :1,2,3,4,5,6,7,8,9,10\n",
            "enter integer string separated by comma :1,3,5,7,9\n"
          ]
        },
        {
          "output_type": "execute_result",
          "data": {
            "text/plain": [
              "['4', '2', '10', '6', '8']"
            ]
          },
          "metadata": {},
          "execution_count": 21
        }
      ]
    },
    {
      "cell_type": "markdown",
      "source": [
        "Que 31. Write a code that takes a list of words as input and return a dictionary where the keys are unique words and the values are the frequecies of those words in the input list"
      ],
      "metadata": {
        "id": "R9USciIzdfKj"
      }
    },
    {
      "cell_type": "code",
      "source": [
        "def word_frequency(words):\n",
        "    frequency_dict = {}\n",
        "    for i in words:\n",
        "        if i in frequency_dict:\n",
        "            frequency_dict[i] += 1\n",
        "        else:\n",
        "            frequency_dict[i] = 1\n",
        "    return frequency_dict"
      ],
      "metadata": {
        "id": "pG2vH8Y1c75V"
      },
      "execution_count": null,
      "outputs": []
    },
    {
      "cell_type": "code",
      "source": [
        "list1 = [1,2,1,2,3,2,3,4,3,4,5,4,5,6,5,6,7,6,7,8,7]\n",
        "word_frequency(list1)"
      ],
      "metadata": {
        "colab": {
          "base_uri": "https://localhost:8080/"
        },
        "id": "TBfDbCdQendO",
        "outputId": "b7973169-e38c-452c-93aa-8919b07c5d0f"
      },
      "execution_count": null,
      "outputs": [
        {
          "output_type": "execute_result",
          "data": {
            "text/plain": [
              "{1: 2, 2: 3, 3: 3, 4: 3, 5: 3, 6: 3, 7: 3, 8: 1}"
            ]
          },
          "metadata": {},
          "execution_count": 24
        }
      ]
    },
    {
      "cell_type": "markdown",
      "source": [
        "Que 32. Write a code that takes two dictionary as input and merge them in a single dictionary. If there are common keys the values should be added together."
      ],
      "metadata": {
        "id": "Z6R1slA7e5zz"
      }
    },
    {
      "cell_type": "code",
      "source": [
        "def merge_dictionaries(dict1, dict2):\n",
        "    merged_dict = dict1.copy()\n",
        "    for key, value in dict2.items():\n",
        "        if key in merged_dict:\n",
        "            merged_dict[key] += value\n",
        "        else:\n",
        "            merged_dict[key] = value\n",
        "    return merged_dict"
      ],
      "metadata": {
        "id": "nvmIdgcZezUt"
      },
      "execution_count": null,
      "outputs": []
    },
    {
      "cell_type": "code",
      "source": [
        "dict1 = {'a': 10, 'b': 20, 'c': 30}\n",
        "dict2 = {'b': 5, 'c': 15, 'd': 25}\n",
        "\n",
        "merged_dictionary = merge_dictionaries(dict1, dict2)\n",
        "print(\"Merged dictionary:\", merged_dictionary)"
      ],
      "metadata": {
        "colab": {
          "base_uri": "https://localhost:8080/"
        },
        "id": "FiS7gO8UftMm",
        "outputId": "eaf66786-3d8a-4dd5-d758-cf349cf9e91e"
      },
      "execution_count": null,
      "outputs": [
        {
          "output_type": "stream",
          "name": "stdout",
          "text": [
            "Merged dictionary: {'a': 10, 'b': 25, 'c': 45, 'd': 25}\n"
          ]
        }
      ]
    },
    {
      "cell_type": "markdown",
      "source": [
        "Que 33. Write a code to access a value in a nested dictionary. The function should take the dictionary and list of keys as input, and return the corresponding value. If any of the key does not exist in the dictionary, the function should retrun None."
      ],
      "metadata": {
        "id": "pfiyVf6Af6ia"
      }
    },
    {
      "cell_type": "code",
      "source": [
        "def access_nested_dict(nested_dict, keys):\n",
        "    current_dict = nested_dict\n",
        "    for key in keys:\n",
        "        if key in current_dict:\n",
        "            current_dict = current_dict[key]\n",
        "        else:\n",
        "            return None\n",
        "    return current_dict\n"
      ],
      "metadata": {
        "id": "eMVzrHTSf2u-"
      },
      "execution_count": null,
      "outputs": []
    },
    {
      "cell_type": "code",
      "source": [
        "nested_dict = {\n",
        "    'a': {\n",
        "        'b': {\n",
        "            'c': 10,\n",
        "            'd': 20\n",
        "        },\n",
        "        'e': {\n",
        "            'f': 30,\n",
        "            'g': 40\n",
        "        }\n",
        "    },\n",
        "    'h': {\n",
        "        'i': {\n",
        "            'j': 50,\n",
        "            'k': 60\n",
        "        }\n",
        "    }\n",
        "}\n",
        "\n",
        "nested_dict"
      ],
      "metadata": {
        "colab": {
          "base_uri": "https://localhost:8080/"
        },
        "id": "V2amhge1ha1Y",
        "outputId": "c3ef25f1-8875-47c9-b60d-fb6598c9f4e9"
      },
      "execution_count": null,
      "outputs": [
        {
          "output_type": "execute_result",
          "data": {
            "text/plain": [
              "{'a': {'b': {'c': 10, 'd': 20}, 'e': {'f': 30, 'g': 40}},\n",
              " 'h': {'i': {'j': 50, 'k': 60}}}"
            ]
          },
          "metadata": {},
          "execution_count": 29
        }
      ]
    },
    {
      "cell_type": "code",
      "source": [
        "keys_to_access = ['a', 'b', 'c']"
      ],
      "metadata": {
        "id": "io2MrpDfhodN"
      },
      "execution_count": null,
      "outputs": []
    },
    {
      "cell_type": "code",
      "source": [
        "result = access_nested_dict(nested_dict, keys_to_access)\n",
        "print(\"Value corresponding to keys {}: {}\".format(keys_to_access, result))"
      ],
      "metadata": {
        "colab": {
          "base_uri": "https://localhost:8080/"
        },
        "id": "PyQDQSm7hxKl",
        "outputId": "4fb33866-28be-4ba9-e36a-83621fa18410"
      },
      "execution_count": null,
      "outputs": [
        {
          "output_type": "stream",
          "name": "stdout",
          "text": [
            "Value corresponding to keys ['a', 'b', 'c']: 10\n"
          ]
        }
      ]
    },
    {
      "cell_type": "markdown",
      "source": [
        "Que 34. Write a code that takes a dictionay as input and returns a sorted version of it based on values. You can choose whether to start in ascending order or descending order."
      ],
      "metadata": {
        "id": "_WVLev8wh8GV"
      }
    },
    {
      "cell_type": "code",
      "source": [
        "def sort_dict_by_values_ascending(input_dict):\n",
        "    sorted_dict = dict(sorted(input_dict.items(), key=lambda item: item[1]))\n",
        "    return sorted_dict"
      ],
      "metadata": {
        "id": "AT2Bi0Rxh3fH"
      },
      "execution_count": null,
      "outputs": []
    },
    {
      "cell_type": "code",
      "source": [
        "input_dict = {'a': 5, 'b': 3, 'c': 8, 'd': 2}\n",
        "\n",
        "sorted_dict = sort_dict_by_values_ascending(input_dict)\n",
        "print(\"Sorted dictionary (ascending order):\", sorted_dict)"
      ],
      "metadata": {
        "colab": {
          "base_uri": "https://localhost:8080/"
        },
        "id": "8jBqGmgTibnW",
        "outputId": "cac426b8-138e-4603-d077-dfc0b88b13ca"
      },
      "execution_count": null,
      "outputs": [
        {
          "output_type": "stream",
          "name": "stdout",
          "text": [
            "Sorted dictionary (ascending order): {'d': 2, 'b': 3, 'a': 5, 'c': 8}\n"
          ]
        }
      ]
    },
    {
      "cell_type": "markdown",
      "source": [
        "Que 35. Write a code that inverts a dictionary, swapping keys and values.Ensure that inverted dictionary correctly handles the cases where multiple keys have the same value by sorting the keys as a list in the inverted dictionary."
      ],
      "metadata": {
        "id": "_NMc7nFOifzp"
      }
    },
    {
      "cell_type": "code",
      "source": [
        "def invert_dict(input_dict):\n",
        "    inverted_dict = {}\n",
        "    for key, value in input_dict.items():\n",
        "        if value in inverted_dict:\n",
        "            inverted_dict[value].append(key)\n",
        "            inverted_dict[value].sort()  # Sort the keys\n",
        "        else:\n",
        "            inverted_dict[value] = [key]\n",
        "    return inverted_dict"
      ],
      "metadata": {
        "id": "ePGp1mTyieVK"
      },
      "execution_count": null,
      "outputs": []
    },
    {
      "cell_type": "code",
      "source": [
        "input_dict = {'a': 5, 'b': 3, 'c': 5, 'd': 2}\n",
        "\n",
        "inverted_dict = invert_dict(input_dict)\n",
        "print(\"Inverted dictionary:\", inverted_dict)"
      ],
      "metadata": {
        "colab": {
          "base_uri": "https://localhost:8080/"
        },
        "id": "8RHDVwydjivv",
        "outputId": "35d85779-a7e1-4564-dd46-70d8bb7e32f3"
      },
      "execution_count": null,
      "outputs": [
        {
          "output_type": "stream",
          "name": "stdout",
          "text": [
            "Inverted dictionary: {5: ['a', 'c'], 3: ['b'], 2: ['d']}\n"
          ]
        }
      ]
    },
    {
      "cell_type": "code",
      "source": [],
      "metadata": {
        "id": "zrgrQACdjlRf"
      },
      "execution_count": null,
      "outputs": []
    }
  ]
}