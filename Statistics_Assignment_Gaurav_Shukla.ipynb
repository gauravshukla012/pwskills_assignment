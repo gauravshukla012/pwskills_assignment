{
  "nbformat": 4,
  "nbformat_minor": 0,
  "metadata": {
    "colab": {
      "provenance": [],
      "authorship_tag": "ABX9TyMfqA6G0UkRnF46HcotDmE7",
      "include_colab_link": true
    },
    "kernelspec": {
      "name": "python3",
      "display_name": "Python 3"
    },
    "language_info": {
      "name": "python"
    }
  },
  "cells": [
    {
      "cell_type": "markdown",
      "metadata": {
        "id": "view-in-github",
        "colab_type": "text"
      },
      "source": [
        "<a href=\"https://colab.research.google.com/github/gauravshukla012/pwskills_assignment/blob/main/Statistics_Assignment_Gaurav_Shukla.ipynb\" target=\"_parent\"><img src=\"https://colab.research.google.com/assets/colab-badge.svg\" alt=\"Open In Colab\"/></a>"
      ]
    },
    {
      "cell_type": "code",
      "execution_count": 1,
      "metadata": {
        "id": "nBt11n56WewF"
      },
      "outputs": [],
      "source": [
        "import numpy as np\n",
        "import pandas as pd"
      ]
    },
    {
      "cell_type": "markdown",
      "source": [
        "Que. 1) Generate a list of 100 integers containing values between 90 to 130 and store it in the variable `int_list`.\n",
        "After generating the list, find the following:"
      ],
      "metadata": {
        "id": "sl4MszanXGUw"
      }
    },
    {
      "cell_type": "markdown",
      "source": [
        "(i) Write a Python function to calculate the mean of a given list of numbers.\n",
        "\n",
        "Create a function to find the median of a list of numbers."
      ],
      "metadata": {
        "id": "VAU9PePMXXTZ"
      }
    },
    {
      "cell_type": "code",
      "source": [
        "int_list = np.random.randint(90,130,100)\n",
        "int_list"
      ],
      "metadata": {
        "colab": {
          "base_uri": "https://localhost:8080/"
        },
        "id": "Nu1xkuF0W3Lg",
        "outputId": "e0dcd0b0-00eb-495a-9f05-c59abfad9e7f"
      },
      "execution_count": 2,
      "outputs": [
        {
          "output_type": "execute_result",
          "data": {
            "text/plain": [
              "array([126, 122,  90, 119, 104, 125,  92, 105,  97, 104,  94, 114, 103,\n",
              "       110, 100, 123, 103,  96,  93, 102, 120, 112,  94, 125, 106, 114,\n",
              "       129,  99, 120,  92,  90, 115, 100, 129,  95,  90,  94, 118, 117,\n",
              "       103, 122,  94, 126, 110, 109, 110, 121,  93, 115, 110,  93, 126,\n",
              "       101, 104, 110,  95, 114, 103, 101,  99, 106, 118, 123, 103, 106,\n",
              "        98, 109, 123, 104, 127,  92, 122, 110, 121, 123,  91, 115, 111,\n",
              "       125,  94, 111,  97, 123,  96,  95, 108,  97, 109,  94, 126, 101,\n",
              "       125, 119, 118, 104, 121, 109, 117, 119, 103])"
            ]
          },
          "metadata": {},
          "execution_count": 2
        }
      ]
    },
    {
      "cell_type": "code",
      "source": [
        "def mean(list):\n",
        "    return sum(list)/len(list)\n",
        "\n",
        "\n",
        "mean(int_list)\n"
      ],
      "metadata": {
        "colab": {
          "base_uri": "https://localhost:8080/"
        },
        "id": "SC-4qyJyW_b1",
        "outputId": "79d5ef9e-09d3-4675-e00c-5f74875a5a7a"
      },
      "execution_count": 3,
      "outputs": [
        {
          "output_type": "execute_result",
          "data": {
            "text/plain": [
              "108.53"
            ]
          },
          "metadata": {},
          "execution_count": 3
        }
      ]
    },
    {
      "cell_type": "code",
      "source": [
        "def median(list):\n",
        "    list.sort()\n",
        "    n = len(list)\n",
        "    if n % 2 == 0:\n",
        "        return (list[n//2] + list[n//2 - 1]) / 2\n",
        "    else:\n",
        "        return list[n//2]\n",
        "\n",
        "median(int_list)"
      ],
      "metadata": {
        "colab": {
          "base_uri": "https://localhost:8080/"
        },
        "id": "2SW0OGL7X1ev",
        "outputId": "7fa71665-1652-4ec9-b077-25139b663f30"
      },
      "execution_count": 4,
      "outputs": [
        {
          "output_type": "execute_result",
          "data": {
            "text/plain": [
              "109.0"
            ]
          },
          "metadata": {},
          "execution_count": 4
        }
      ]
    },
    {
      "cell_type": "markdown",
      "source": [
        " (ii) Develop a program to compute the mode of a list of integers."
      ],
      "metadata": {
        "id": "k63Sytx4YcXZ"
      }
    },
    {
      "cell_type": "code",
      "source": [
        "def mode(list):\n",
        "\n",
        "  freq = {}\n",
        "\n",
        "  for num in list:\n",
        "    freq[num] = freq.get(num, 0) + 1\n",
        "\n",
        "  max_freq = max(freq.values())\n",
        "\n",
        "  mode = [num for num, count in freq.items() if count == max_freq]\n",
        "\n",
        "  return mode\n",
        "\n",
        "\n",
        "mode(int_list)"
      ],
      "metadata": {
        "colab": {
          "base_uri": "https://localhost:8080/"
        },
        "id": "EOxiopdrYWZA",
        "outputId": "eb690417-5305-445f-a021-f40d09f7c722"
      },
      "execution_count": 5,
      "outputs": [
        {
          "output_type": "execute_result",
          "data": {
            "text/plain": [
              "[94, 103, 110]"
            ]
          },
          "metadata": {},
          "execution_count": 5
        }
      ]
    },
    {
      "cell_type": "markdown",
      "source": [
        "(iii) Implement a function to calculate the weighted mean of a list of values and their corresponding weights."
      ],
      "metadata": {
        "id": "I0crLtTnbYHI"
      }
    },
    {
      "cell_type": "code",
      "source": [
        "def weighted_mean(values, weights):\n",
        "\n",
        "  if len(values) != len(weights):\n",
        "    raise ValueError (\"The length of values and weights must be the same.\")\n",
        "\n",
        "  # Calculating the sum of weighted value\n",
        "  weighted_sum = sum(value * weight for value, weight in zip(values,weights))\n",
        "\n",
        "  # Calculation of total weight\n",
        "  total_weight = sum(weights)\n",
        "\n",
        "  mean = weighted_sum/total_weight\n",
        "\n",
        "  return mean"
      ],
      "metadata": {
        "id": "GxcYI9MhaV2R"
      },
      "execution_count": 6,
      "outputs": []
    },
    {
      "cell_type": "code",
      "source": [
        "values = [4, 5, 6]\n",
        "weights = [1, 2, 3]\n",
        "print(weighted_mean(values, weights))"
      ],
      "metadata": {
        "colab": {
          "base_uri": "https://localhost:8080/"
        },
        "id": "CcOf2HMCdg46",
        "outputId": "f70f6463-17cf-451c-8e3d-9432e010e996"
      },
      "execution_count": 7,
      "outputs": [
        {
          "output_type": "stream",
          "name": "stdout",
          "text": [
            "5.333333333333333\n"
          ]
        }
      ]
    },
    {
      "cell_type": "markdown",
      "source": [
        "  (iv) Write a Python function to find the geometric mean of a list of positive numbers.|"
      ],
      "metadata": {
        "id": "lDboDC3myoFB"
      }
    },
    {
      "cell_type": "code",
      "source": [
        "def geometric_mean(number):\n",
        "\n",
        "  if len(number) == 0:\n",
        "    raise ValueError (\"The list of numbers must not be empty\")\n",
        "\n",
        "  for num in number:\n",
        "    if num <= 0:\n",
        "      raise ValueError (\"All numbers must be positive\")\n",
        "\n",
        "  # Calculate the product of all numbers\n",
        "  product = 1\n",
        "  for num in number:\n",
        "    product *= num\n",
        "\n",
        "  # Calculating the Geometric Mean\n",
        "  n = len(number)\n",
        "  gm = product ** (1/n)\n",
        "\n",
        "  return gm"
      ],
      "metadata": {
        "id": "kpwnPYIGdlDY"
      },
      "execution_count": 8,
      "outputs": []
    },
    {
      "cell_type": "code",
      "source": [
        "list1 = [1,2,3,4,5,6,7,8,9]\n",
        "\n",
        "geometric_mean(list1)"
      ],
      "metadata": {
        "colab": {
          "base_uri": "https://localhost:8080/"
        },
        "id": "1fXp-7L1zYcr",
        "outputId": "3905efd3-fc8e-460b-e61a-5a2f616ab649"
      },
      "execution_count": 9,
      "outputs": [
        {
          "output_type": "execute_result",
          "data": {
            "text/plain": [
              "4.147166274396913"
            ]
          },
          "metadata": {},
          "execution_count": 9
        }
      ]
    },
    {
      "cell_type": "markdown",
      "source": [
        " (v) Create a program to calculate the harmonic mean of a list of values."
      ],
      "metadata": {
        "id": "AqMgqU0n0jdy"
      }
    },
    {
      "cell_type": "code",
      "source": [
        "def harmonic_mean(numbers):\n",
        "\n",
        "  if len(numbers) == 0:\n",
        "    raise ValueError (\"The list of numbers must not be empty\")\n",
        "\n",
        "  for num in numbers:\n",
        "    if num <= 0:\n",
        "      raise ValueError (\"All numbers must be positive\")\n",
        "\n",
        "  reciprocal_sum = 0\n",
        "  for num in numbers:\n",
        "    reciprocal_sum += 1/num\n",
        "\n",
        "  # Calculation of harmonic mean\n",
        "  n = len(numbers)\n",
        "  hm = n/reciprocal_sum\n",
        "\n",
        "  return hm"
      ],
      "metadata": {
        "id": "JJok54K90V76"
      },
      "execution_count": 10,
      "outputs": []
    },
    {
      "cell_type": "code",
      "source": [
        "harmonic_mean(list1)"
      ],
      "metadata": {
        "colab": {
          "base_uri": "https://localhost:8080/"
        },
        "id": "jPbuScZY1MXU",
        "outputId": "729c73b1-2973-41dc-b9dc-5f8a1c6ca44b"
      },
      "execution_count": 11,
      "outputs": [
        {
          "output_type": "execute_result",
          "data": {
            "text/plain": [
              "3.181371861411138"
            ]
          },
          "metadata": {},
          "execution_count": 11
        }
      ]
    },
    {
      "cell_type": "markdown",
      "source": [
        " (vi) Build a function to determine the midrange of a list of numbers (average of the minimum and maximum)."
      ],
      "metadata": {
        "id": "9UsCLR3F18TQ"
      }
    },
    {
      "cell_type": "code",
      "source": [
        "def midrange(numbers):\n",
        "\n",
        "  # Check if the list is empty\n",
        "  if len(numbers) == 0:\n",
        "    raise ValueError(\"The list of numbers must not be empty.\")\n",
        "\n",
        "  maximum = max(numbers)\n",
        "  minimum = min(numbers)\n",
        "\n",
        "  mr = (maximum + minimum) / 2\n",
        "\n",
        "  return mr"
      ],
      "metadata": {
        "id": "GxbUiTO71Ota"
      },
      "execution_count": 12,
      "outputs": []
    },
    {
      "cell_type": "code",
      "source": [
        "midrange(list1)"
      ],
      "metadata": {
        "colab": {
          "base_uri": "https://localhost:8080/"
        },
        "id": "XEZSWAlF2TXi",
        "outputId": "33fee96f-6fd8-4a7b-fec3-39ca7d585e57"
      },
      "execution_count": 13,
      "outputs": [
        {
          "output_type": "execute_result",
          "data": {
            "text/plain": [
              "5.0"
            ]
          },
          "metadata": {},
          "execution_count": 13
        }
      ]
    },
    {
      "cell_type": "markdown",
      "source": [
        "  (vii) Implement a Python program to find the trimmed mean of a list, excluding a certain percentage of\n",
        "outliers."
      ],
      "metadata": {
        "id": "JuAjuOxp22y0"
      }
    },
    {
      "cell_type": "code",
      "source": [
        "def trimmed_mean(numbers, percentage):\n",
        "\n",
        "  if len(numbers) == 0:\n",
        "    raise ValueError(\"List of number can't be empty\")\n",
        "\n",
        "  if not 0 <= percentage < 50:\n",
        "    raise ValueError(\"percentage must be between 0 and less than 50\")\n",
        "\n",
        "  # sorting the list of numbers\n",
        "  sorted_numbers = sorted(numbers)\n",
        "\n",
        "  trim_count = int(len(sorted_numbers) * percentage/100)\n",
        "\n",
        "  # trimming the smallest and the largest numbers\n",
        "  trimmed_numbers = sorted_numbers[trim_count:-trim_count]\n",
        "\n",
        "  # checking if any number is left after trimming\n",
        "  if len(trimmed_numbers) == 0:\n",
        "    raise ValueError(\"List of trimmed numbers can't be empty\")\n",
        "\n",
        "  mean = sum(trimmed_numbers) / len(trimmed_numbers)\n",
        "\n",
        "  return mean"
      ],
      "metadata": {
        "id": "Pg-ZR5hh2VL6"
      },
      "execution_count": 14,
      "outputs": []
    },
    {
      "cell_type": "code",
      "source": [
        "list2 = [-800, 1,2,3,4,5,6,7,8, 900]\n",
        "\n",
        "trimmed_mean(list2, 10)"
      ],
      "metadata": {
        "colab": {
          "base_uri": "https://localhost:8080/"
        },
        "id": "xlEqqK7y6B4D",
        "outputId": "9b7d72c3-23af-4001-c3da-71034c92062b"
      },
      "execution_count": 15,
      "outputs": [
        {
          "output_type": "execute_result",
          "data": {
            "text/plain": [
              "4.5"
            ]
          },
          "metadata": {},
          "execution_count": 15
        }
      ]
    },
    {
      "cell_type": "code",
      "source": [
        "trimmed_mean(int_list, 20)"
      ],
      "metadata": {
        "colab": {
          "base_uri": "https://localhost:8080/"
        },
        "id": "rDbBj6cM6VKb",
        "outputId": "b0dfefa3-135e-45d4-cc98-f1e16953af4a"
      },
      "execution_count": 16,
      "outputs": [
        {
          "output_type": "execute_result",
          "data": {
            "text/plain": [
              "108.35"
            ]
          },
          "metadata": {},
          "execution_count": 16
        }
      ]
    },
    {
      "cell_type": "markdown",
      "source": [
        "Que. 2)  Generate a list of 500 integers containing values between 200 to 300 and store it in the variable `int_list2`.\n",
        "After generating the list, find the following:"
      ],
      "metadata": {
        "id": "-IVrUgsCI0CZ"
      }
    },
    {
      "cell_type": "code",
      "source": [
        "int_list2 = np.random.randint(200,300,500)"
      ],
      "metadata": {
        "id": "8WYYDo8w6mjy"
      },
      "execution_count": 17,
      "outputs": []
    },
    {
      "cell_type": "markdown",
      "source": [
        " (i) Compare the given list of visualization for the given data:\n",
        "\n",
        "    \n",
        "\n",
        "    1. Frequency & Gaussian distribution\n",
        "\n",
        "    2. Frequency smoothened KDE plot\n",
        "\n",
        "    3. Gaussian distribution & smoothened KDE plot"
      ],
      "metadata": {
        "id": "UdlG1NOgJOZr"
      }
    },
    {
      "cell_type": "code",
      "source": [
        "import random\n",
        "import seaborn as sns\n",
        "import matplotlib.pyplot as plt\n",
        "from scipy import stats"
      ],
      "metadata": {
        "id": "5jTAaazOKBii"
      },
      "execution_count": 18,
      "outputs": []
    },
    {
      "cell_type": "code",
      "source": [
        "# 1. Frequency & Gaussian distribution\n",
        "fig, ax = plt.subplots(figsize=(10, 6))\n",
        "sns.distplot(int_list2, kde=False, fit=stats.norm, ax=ax, label='Frequency')\n",
        "ax.set_title('Frequency & Gaussian Distribution')\n",
        "ax.legend()\n",
        "plt.show()"
      ],
      "metadata": {
        "colab": {
          "base_uri": "https://localhost:8080/",
          "height": 678
        },
        "id": "3oWD4J9AJKFI",
        "outputId": "5309f591-0d70-423a-91bb-4b9c290afd65"
      },
      "execution_count": 19,
      "outputs": [
        {
          "output_type": "stream",
          "name": "stderr",
          "text": [
            "<ipython-input-19-9c6f97ed0f41>:3: UserWarning: \n",
            "\n",
            "`distplot` is a deprecated function and will be removed in seaborn v0.14.0.\n",
            "\n",
            "Please adapt your code to use either `displot` (a figure-level function with\n",
            "similar flexibility) or `histplot` (an axes-level function for histograms).\n",
            "\n",
            "For a guide to updating your code to use the new functions, please see\n",
            "https://gist.github.com/mwaskom/de44147ed2974457ad6372750bbe5751\n",
            "\n",
            "  sns.distplot(int_list2, kde=False, fit=stats.norm, ax=ax, label='Frequency')\n"
          ]
        },
        {
          "output_type": "display_data",
          "data": {
            "text/plain": [
              "<Figure size 1000x600 with 1 Axes>"
            ],
            "image/png": "[encoded data removed]"
          },
          "metadata": {}
        }
      ]
    },
    {
      "cell_type": "code",
      "source": [
        "# 2. Frequency smoothened KDE plot\n",
        "\n",
        "plt.figure(figsize=(10,6))\n",
        "sns.histplot(int_list2, kde=True)\n",
        "plt.title(\"Frequency smoothened KDE plot\")\n",
        "plt.show()\n"
      ],
      "metadata": {
        "colab": {
          "base_uri": "https://localhost:8080/",
          "height": 488
        },
        "id": "z-28NteQJ-px",
        "outputId": "9eed8196-9222-4ad2-ea72-799ca6d7686d"
      },
      "execution_count": 20,
      "outputs": [
        {
          "output_type": "display_data",
          "data": {
            "text/plain": [
              "<Figure size 1000x600 with 1 Axes>"
            ],
            "image/png": "[encoded data removed]"
          },
          "metadata": {}
        }
      ]
    },
    {
      "cell_type": "code",
      "source": [
        "# 3. Gaussian distribution & smoothened KDE plot\n",
        "fig, ax = plt.subplots(figsize=(10, 6))\n",
        "sns.distplot(int_list2, hist=False, kde=True, fit=stats.norm, ax=ax)\n",
        "ax.set_title('Gaussian Distribution & Smoothened KDE Plot')\n",
        "\n",
        "plt.show()"
      ],
      "metadata": {
        "colab": {
          "base_uri": "https://localhost:8080/",
          "height": 667
        },
        "id": "dmVblinQMFU0",
        "outputId": "08ddff16-48b4-4052-d91a-62ce49e3bff9"
      },
      "execution_count": 21,
      "outputs": [
        {
          "output_type": "stream",
          "name": "stderr",
          "text": [
            "<ipython-input-21-b7d4f0174825>:3: UserWarning: \n",
            "\n",
            "`distplot` is a deprecated function and will be removed in seaborn v0.14.0.\n",
            "\n",
            "Please adapt your code to use either `displot` (a figure-level function with\n",
            "similar flexibility) or `kdeplot` (an axes-level function for kernel density plots).\n",
            "\n",
            "For a guide to updating your code to use the new functions, please see\n",
            "https://gist.github.com/mwaskom/de44147ed2974457ad6372750bbe5751\n",
            "\n",
            "  sns.distplot(int_list2, hist=False, kde=True, fit=stats.norm, ax=ax)\n"
          ]
        },
        {
          "output_type": "display_data",
          "data": {
            "text/plain": [
              "<Figure size 1000x600 with 1 Axes>"
            ],
            "image/png": "[encoded data removed]"
          },
          "metadata": {}
        }
      ]
    },
    {
      "cell_type": "markdown",
      "source": [
        " (ii) Write a Python function to calculate the range of a given list of numbers."
      ],
      "metadata": {
        "id": "KDDG9GhPNkjI"
      }
    },
    {
      "cell_type": "code",
      "source": [
        "def cal_range(numbers):\n",
        "  range = max(numbers) - min(numbers)\n",
        "  return range"
      ],
      "metadata": {
        "id": "AVGzbC7MNVmq"
      },
      "execution_count": 22,
      "outputs": []
    },
    {
      "cell_type": "code",
      "source": [
        "cal_range(int_list2)"
      ],
      "metadata": {
        "id": "SlXbj9ZmOHgx",
        "outputId": "22c4875e-6141-4808-d3b4-beac745ce45f",
        "colab": {
          "base_uri": "https://localhost:8080/"
        }
      },
      "execution_count": 23,
      "outputs": [
        {
          "output_type": "execute_result",
          "data": {
            "text/plain": [
              "99"
            ]
          },
          "metadata": {},
          "execution_count": 23
        }
      ]
    },
    {
      "cell_type": "markdown",
      "source": [
        "  (iii) Create a program to find the variance and standard deviation of a list of numbers."
      ],
      "metadata": {
        "id": "Jf5bJdm6q8zC"
      }
    },
    {
      "cell_type": "code",
      "source": [
        "def find_var_and_std(numbers):\n",
        "  var = np.var(numbers)\n",
        "  std = np.std(numbers)\n",
        "  return \"variance: \", var, \"Standard deviation: \", std"
      ],
      "metadata": {
        "id": "QmCAKqNqOOAJ"
      },
      "execution_count": 24,
      "outputs": []
    },
    {
      "cell_type": "code",
      "source": [
        "find_var_and_std(int_list2)"
      ],
      "metadata": {
        "colab": {
          "base_uri": "https://localhost:8080/"
        },
        "id": "UiD2OhzTrbK3",
        "outputId": "fa547afa-4fd3-41dc-c5fa-c48941b88b39"
      },
      "execution_count": 25,
      "outputs": [
        {
          "output_type": "execute_result",
          "data": {
            "text/plain": [
              "('variance: ', 811.163244, 'Standard deviation: ', 28.480927723653945)"
            ]
          },
          "metadata": {},
          "execution_count": 25
        }
      ]
    },
    {
      "cell_type": "markdown",
      "source": [
        " (iv) Implement a function to compute the interquartile range (IQR) of a list of values."
      ],
      "metadata": {
        "id": "TEaxsUa3rk12"
      }
    },
    {
      "cell_type": "code",
      "source": [
        "def find_IQR(numbers):\n",
        "\n",
        "  # finding quartile first and quartile third\n",
        "  q1 = np.quantile(numbers, [.25])\n",
        "  q3 = np.quantile(numbers, [.75])\n",
        "\n",
        "  # now finding the IQR\n",
        "  iqr = q3 - q1\n",
        "\n",
        "  return iqr"
      ],
      "metadata": {
        "id": "Tkq3O0Dprgo3"
      },
      "execution_count": 26,
      "outputs": []
    },
    {
      "cell_type": "code",
      "source": [
        "find_IQR(int_list2)"
      ],
      "metadata": {
        "colab": {
          "base_uri": "https://localhost:8080/"
        },
        "id": "JrZDyRHDr0Cm",
        "outputId": "f5b12164-9197-4db3-a4e9-bcaedc2632a3"
      },
      "execution_count": 27,
      "outputs": [
        {
          "output_type": "execute_result",
          "data": {
            "text/plain": [
              "array([50.])"
            ]
          },
          "metadata": {},
          "execution_count": 27
        }
      ]
    },
    {
      "cell_type": "markdown",
      "source": [
        "(v) Build a program to calculate the coefficient of variation for a dataset."
      ],
      "metadata": {
        "id": "Tb1cgQIzszk3"
      }
    },
    {
      "cell_type": "code",
      "source": [
        "def coefficient_of_variation(numbers):\n",
        "\n",
        "  # finding the mu and sigme for numbers.\n",
        "  mu = np.mean(numbers)\n",
        "  sigma = np.std(numbers)\n",
        "\n",
        "  # Now we know that coefficient of variation is mu / sigma\n",
        "  cof_var = mu / sigma\n",
        "\n",
        "  return cof_var"
      ],
      "metadata": {
        "id": "1Uzh5Zk0r4Um"
      },
      "execution_count": 28,
      "outputs": []
    },
    {
      "cell_type": "code",
      "source": [
        "coefficient_of_variation(int_list2)"
      ],
      "metadata": {
        "colab": {
          "base_uri": "https://localhost:8080/"
        },
        "id": "IibnvfXotwCH",
        "outputId": "07fb9840-1111-41dc-daf2-cd8b68c3b58d"
      },
      "execution_count": 29,
      "outputs": [
        {
          "output_type": "execute_result",
          "data": {
            "text/plain": [
              "8.769587929980407"
            ]
          },
          "metadata": {},
          "execution_count": 29
        }
      ]
    },
    {
      "cell_type": "markdown",
      "source": [
        " (vi) Write a Python function to find the mean absolute deviation (MAD) of a list of numbers."
      ],
      "metadata": {
        "id": "KJ9OWI64t5pW"
      }
    },
    {
      "cell_type": "code",
      "source": [
        "def mean_absolute_deviation(numbers):\n",
        "\n",
        "  # finding the mean of numbers\n",
        "  mean = np.mean(numbers)\n",
        "\n",
        "  # finding the absolute values\n",
        "  absolute_values = [abs(i - mean) for i in numbers]\n",
        "\n",
        "  # finding the MAD\n",
        "  mad = np.mean(absolute_values)\n",
        "\n",
        "  return mad"
      ],
      "metadata": {
        "id": "Oo_etmr_t2oW"
      },
      "execution_count": 30,
      "outputs": []
    },
    {
      "cell_type": "code",
      "source": [
        "mean_absolute_deviation(int_list2)"
      ],
      "metadata": {
        "colab": {
          "base_uri": "https://localhost:8080/"
        },
        "id": "OlMbTk1yu9BG",
        "outputId": "9cfbbb02-d985-4171-8bee-a6056dfe03ee"
      },
      "execution_count": 31,
      "outputs": [
        {
          "output_type": "execute_result",
          "data": {
            "text/plain": [
              "24.633152000000003"
            ]
          },
          "metadata": {},
          "execution_count": 31
        }
      ]
    },
    {
      "cell_type": "markdown",
      "source": [
        "(vii) Create a program to calculate the quartile deviation of a list of values."
      ],
      "metadata": {
        "id": "ieRi61vTvdC2"
      }
    },
    {
      "cell_type": "code",
      "source": [
        "def quartile_deviation(numbers):\n",
        "\n",
        "  # finding the Q1 and Q3\n",
        "  q1 = np.quantile(numbers, .25)\n",
        "  q3 = np.quantile(numbers, .75)\n",
        "\n",
        "  # calculating quartile_deviation\n",
        "  qd = (q3 - q1) / 2\n",
        "\n",
        "  return qd"
      ],
      "metadata": {
        "id": "RXPSZ9aevPT-"
      },
      "execution_count": 32,
      "outputs": []
    },
    {
      "cell_type": "code",
      "source": [
        "quartile_deviation(int_list2)"
      ],
      "metadata": {
        "colab": {
          "base_uri": "https://localhost:8080/"
        },
        "id": "tt8kxVN6v3_3",
        "outputId": "3ee79920-dfad-4dfd-e7a3-46ab02900768"
      },
      "execution_count": 33,
      "outputs": [
        {
          "output_type": "execute_result",
          "data": {
            "text/plain": [
              "25.0"
            ]
          },
          "metadata": {},
          "execution_count": 33
        }
      ]
    },
    {
      "cell_type": "markdown",
      "source": [
        "  (viii) Implement a function to find the range-based coefficient of dispersion for a dataset."
      ],
      "metadata": {
        "id": "DlaqN835v_xm"
      }
    },
    {
      "cell_type": "code",
      "source": [
        "# The range-based coefficient of dispersion, also known as the relative range, is a measure of the dispersion of a data set relative to its central value.\n",
        "# It is calculated using the range of the data set (the difference between the maximum and minimum values) and the mean or median.\n",
        "# It provides a way to understand the spread of the data in relation to the central value."
      ],
      "metadata": {
        "id": "cHzKSJUZv_Km"
      },
      "execution_count": 34,
      "outputs": []
    },
    {
      "cell_type": "code",
      "source": [
        "def range_based_coeff_dispersion(numbers):\n",
        "\n",
        "  # finding minimum and maximum of numbers\n",
        "  max = np.max(numbers)\n",
        "  min = np.min(numbers)\n",
        "\n",
        "  # taking central value as mean\n",
        "  mean = np.mean(numbers)\n",
        "\n",
        "  # calcultion the range based coeff of dispersion\n",
        "  rbcd = (max - min) / mean\n",
        "\n",
        "  return rbcd"
      ],
      "metadata": {
        "id": "HZmuSIWHv6p-"
      },
      "execution_count": 35,
      "outputs": []
    },
    {
      "cell_type": "code",
      "source": [
        "range_based_coeff_dispersion(int_list2)"
      ],
      "metadata": {
        "colab": {
          "base_uri": "https://localhost:8080/"
        },
        "id": "_HG0b2aqw6p2",
        "outputId": "27b4b761-b819-4505-a6aa-4ffd6274ac40"
      },
      "execution_count": 36,
      "outputs": [
        {
          "output_type": "execute_result",
          "data": {
            "text/plain": [
              "0.3963710032590505"
            ]
          },
          "metadata": {},
          "execution_count": 36
        }
      ]
    },
    {
      "cell_type": "markdown",
      "source": [
        "Que. 3)  Write a Python class representing a discrete random variable with methods to calculate its expected\n",
        "value and variance."
      ],
      "metadata": {
        "id": "ycod_3k7xWtv"
      }
    },
    {
      "cell_type": "code",
      "source": [
        "import numpy as np\n",
        "\n",
        "class DiscreteRandomVariable:\n",
        "    def __init__(self, values, probabilities):\n",
        "        if len(values) != len(probabilities):\n",
        "            raise ValueError(\"Values and probabilities must have the same length.\")\n",
        "        if not np.isclose(sum(probabilities), 1):\n",
        "            raise ValueError(\"Probabilities must sum to 1.\")\n",
        "\n",
        "        self.values = np.array(values)\n",
        "        self.probabilities = np.array(probabilities)\n",
        "\n",
        "    def expected_value(self):\n",
        "        \"\"\"Calculate the expected value (mean) of the random variable.\"\"\"\n",
        "        return np.sum(self.values * self.probabilities)\n",
        "\n",
        "    def variance(self):\n",
        "        \"\"\"Calculate the variance of the random variable.\"\"\"\n",
        "        mean = self.expected_value()\n",
        "        return np.sum(self.probabilities * (self.values - mean) ** 2)\n",
        "\n",
        "# Example usage\n",
        "values = [0, 1, 2, 3, 4, 5]  # Number of purchases per customer\n",
        "probabilities = [0.1, 0.2, 0.3, 0.2, 0.1, 0.1]  # Probability distribution\n",
        "\n",
        "# Create an instance of DiscreteRandomVariable\n",
        "drv = DiscreteRandomVariable(values, probabilities)\n",
        "\n",
        "# Calculate expected value and variance\n",
        "expected_value = drv.expected_value()\n",
        "variance = drv.variance()\n",
        "\n",
        "print(f\"Expected Value (average purchases): {expected_value}\")\n",
        "print(f\"Variance (variability in purchases): {variance}\")\n"
      ],
      "metadata": {
        "colab": {
          "base_uri": "https://localhost:8080/"
        },
        "id": "3hqbIkxhw-hP",
        "outputId": "06043f7b-8e2e-4bf2-9930-b6b390d8ac06"
      },
      "execution_count": 37,
      "outputs": [
        {
          "output_type": "stream",
          "name": "stdout",
          "text": [
            "Expected Value (average purchases): 2.3000000000000003\n",
            "Variance (variability in purchases): 2.01\n"
          ]
        }
      ]
    },
    {
      "cell_type": "markdown",
      "source": [
        "Que. 4) Implement a program to simulate the rolling of a fair six-sided die and calculate the expected value and\n",
        "variance of the outcomes."
      ],
      "metadata": {
        "id": "zAhpZNN0yokB"
      }
    },
    {
      "cell_type": "code",
      "source": [
        "import random\n",
        "import numpy as np"
      ],
      "metadata": {
        "id": "UExk6FhKyNe_"
      },
      "execution_count": 38,
      "outputs": []
    },
    {
      "cell_type": "code",
      "source": [
        "def roll_die(num_rolls):\n",
        "  outcomes = [random.randint(1,6) for _ in range(num_rolls)]\n",
        "  return outcomes\n",
        "\n",
        "\n",
        "def calculate_expected_value_and_variance(outcomes):\n",
        "\n",
        "  expected_value = np.mean(outcomes)\n",
        "  variance = np.var(outcomes)\n",
        "\n",
        "  return expected_value, variance"
      ],
      "metadata": {
        "id": "IekL7y6SzLbO"
      },
      "execution_count": 39,
      "outputs": []
    },
    {
      "cell_type": "code",
      "source": [
        "# Number of rolls to simulate\n",
        "num_rolls = 1000000  # One million rolls for a good approximation\n",
        "\n",
        "# Simulate the rolls\n",
        "outcomes = roll_die(num_rolls)\n",
        "\n",
        "# Calculate the expected value and variance\n",
        "expected_value, variance = calculate_expected_value_and_variance(outcomes)\n",
        "\n",
        "print(f\"Expected Value: {expected_value}\")\n",
        "print(f\"Variance: {variance}\")"
      ],
      "metadata": {
        "colab": {
          "base_uri": "https://localhost:8080/"
        },
        "id": "Ks1ZYx8Nz7C_",
        "outputId": "d6d14e55-b5a3-47ff-bc18-2d033a0b1b4c"
      },
      "execution_count": 40,
      "outputs": [
        {
          "output_type": "stream",
          "name": "stdout",
          "text": [
            "Expected Value: 3.500778\n",
            "Variance: 2.9216033947160005\n"
          ]
        }
      ]
    },
    {
      "cell_type": "markdown",
      "source": [
        "Que. 5) Create a Python function to generate random samples from a given probability distribution (e.g.,\n",
        "binomial, Poisson) and calculate their mean and variance."
      ],
      "metadata": {
        "id": "PRoy2kb0Nlvj"
      }
    },
    {
      "cell_type": "code",
      "source": [
        "def generate_samples_and_stats(distribution, params, sample_size):\n",
        "  if distribution == 'binomial':\n",
        "    samples = np.random.binomial(n=params['n'], p=params['p'], size=sample_size)\n",
        "  elif distribution == 'poisson':\n",
        "    samples = np.random.poisson(lam=params['lam'], size=sample_size)\n",
        "  else:\n",
        "    raise ValueError(\"Unsupported distribution type\")\n",
        "\n",
        "  mean = np.mean(samples)\n",
        "  variance = np.var(samples)\n",
        "\n",
        "  return mean, variance"
      ],
      "metadata": {
        "id": "ljylHBxINlGU"
      },
      "execution_count": 41,
      "outputs": []
    },
    {
      "cell_type": "code",
      "source": [
        "# Example usage\n",
        "# Parameters for the binomial distribution: n (number of trials), p (probability of success)\n",
        "binomial_params = {'n': 10, 'p': 0.5}\n",
        "# Parameters for the Poisson distribution: lam (lambda, the rate parameter)\n",
        "poisson_params = {'lam': 4}\n",
        "\n",
        "# Number of samples to generate\n",
        "sample_size = 10000\n",
        "\n",
        "# Generate samples and calculate mean and variance for binomial distribution\n",
        "binomial_mean, binomial_variance = generate_samples_and_stats('binomial', binomial_params, sample_size)\n",
        "print(f\"Binomial Distribution -> Mean: {binomial_mean}, Variance: {binomial_variance}\")\n",
        "\n",
        "# Generate samples and calculate mean and variance for Poisson distribution\n",
        "poisson_mean, poisson_variance = generate_samples_and_stats('poisson', poisson_params, sample_size)\n",
        "print(f\"Poisson Distribution -> Mean: {poisson_mean}, Variance: {poisson_variance}\")"
      ],
      "metadata": {
        "colab": {
          "base_uri": "https://localhost:8080/"
        },
        "id": "qwnnhPKBOIcR",
        "outputId": "cb9c00fa-a842-4cc0-86bb-265233f4dc8f"
      },
      "execution_count": 42,
      "outputs": [
        {
          "output_type": "stream",
          "name": "stdout",
          "text": [
            "Binomial Distribution -> Mean: 4.9863, Variance: 2.47851231\n",
            "Poisson Distribution -> Mean: 3.9968, Variance: 3.8775897599999998\n"
          ]
        }
      ]
    },
    {
      "cell_type": "markdown",
      "source": [
        "Que. 6) Write a Python script to generate random numbers from a Gaussian (normal) distribution and compute\n",
        "the mean, variance, and standard deviation of the samples."
      ],
      "metadata": {
        "id": "eBXkiBKnOxCf"
      }
    },
    {
      "cell_type": "code",
      "source": [
        "def generate_random_samples(mean, std, sample_size):\n",
        "\n",
        "  samples = np.random.normal(loc = mean, scale = std, size = sample_size)\n",
        "\n",
        "  # Calculation of mean, variance, standard deviation of the samples.\n",
        "\n",
        "  mean = np.mean(samples)\n",
        "  variance = np.var(samples)\n",
        "  std = np.std(samples)\n",
        "\n",
        "  return \"Mean of the sample: \", mean, \"Variance of the sample: \", variance, \"Standard deviation of the sample: \", std"
      ],
      "metadata": {
        "id": "rGoVjx7jOqVJ"
      },
      "execution_count": 43,
      "outputs": []
    },
    {
      "cell_type": "code",
      "source": [
        "generate_random_samples(2, 1, 50)"
      ],
      "metadata": {
        "colab": {
          "base_uri": "https://localhost:8080/"
        },
        "id": "hAd2u4zvPB_w",
        "outputId": "2b666043-4d4a-4686-a244-4153b94f286f"
      },
      "execution_count": 44,
      "outputs": [
        {
          "output_type": "execute_result",
          "data": {
            "text/plain": [
              "('Mean of the sample: ',\n",
              " 1.8982510882201467,\n",
              " 'Variance of the sample: ',\n",
              " 1.0020540756295286,\n",
              " 'Standard deviation of the sample: ',\n",
              " 1.0010265109523966)"
            ]
          },
          "metadata": {},
          "execution_count": 44
        }
      ]
    },
    {
      "cell_type": "markdown",
      "source": [
        "Que. 7) Use seaborn library to load tips dataset. Find the following from the dataset for the columns total_bill\n",
        "and tip`:"
      ],
      "metadata": {
        "id": "P-iHHG9fQ-8r"
      }
    },
    {
      "cell_type": "code",
      "source": [
        "import numpy as np\n",
        "import pandas as pd\n",
        "import seaborn as sns\n",
        "\n",
        "tips = sns.load_dataset(\"tips\")"
      ],
      "metadata": {
        "id": "Zy0g27WkQgkn"
      },
      "execution_count": 45,
      "outputs": []
    },
    {
      "cell_type": "code",
      "source": [
        "tips.head(6)"
      ],
      "metadata": {
        "colab": {
          "base_uri": "https://localhost:8080/",
          "height": 237
        },
        "id": "VRWk1o28RSR3",
        "outputId": "c71271ca-1085-4e19-b487-24d551211379"
      },
      "execution_count": 46,
      "outputs": [
        {
          "output_type": "execute_result",
          "data": {
            "text/plain": [
              "   total_bill   tip     sex smoker  day    time  size\n",
              "0       16.99  1.01  Female     No  Sun  Dinner     2\n",
              "1       10.34  1.66    Male     No  Sun  Dinner     3\n",
              "2       21.01  3.50    Male     No  Sun  Dinner     3\n",
              "3       23.68  3.31    Male     No  Sun  Dinner     2\n",
              "4       24.59  3.61  Female     No  Sun  Dinner     4\n",
              "5       25.29  4.71    Male     No  Sun  Dinner     4"
            ],
            "text/html": [
              "\n",
              "  <div id=\"df-dd1e98d5-3e0f-4184-9df4-750d3dff8229\" class=\"colab-df-container\">\n",
              "    <div>\n",
              "<style scoped>\n",
              "    .dataframe tbody tr th:only-of-type {\n",
              "        vertical-align: middle;\n",
              "    }\n",
              "\n",
              "    .dataframe tbody tr th {\n",
              "        vertical-align: top;\n",
              "    }\n",
              "\n",
              "    .dataframe thead th {\n",
              "        text-align: right;\n",
              "    }\n",
              "</style>\n",
              "<table border=\"1\" class=\"dataframe\">\n",
              "  <thead>\n",
              "    <tr style=\"text-align: right;\">\n",
              "      <th></th>\n",
              "      <th>total_bill</th>\n",
              "      <th>tip</th>\n",
              "      <th>sex</th>\n",
              "      <th>smoker</th>\n",
              "      <th>day</th>\n",
              "      <th>time</th>\n",
              "      <th>size</th>\n",
              "    </tr>\n",
              "  </thead>\n",
              "  <tbody>\n",
              "    <tr>\n",
              "      <th>0</th>\n",
              "      <td>16.99</td>\n",
              "      <td>1.01</td>\n",
              "      <td>Female</td>\n",
              "      <td>No</td>\n",
              "      <td>Sun</td>\n",
              "      <td>Dinner</td>\n",
              "      <td>2</td>\n",
              "    </tr>\n",
              "    <tr>\n",
              "      <th>1</th>\n",
              "      <td>10.34</td>\n",
              "      <td>1.66</td>\n",
              "      <td>Male</td>\n",
              "      <td>No</td>\n",
              "      <td>Sun</td>\n",
              "      <td>Dinner</td>\n",
              "      <td>3</td>\n",
              "    </tr>\n",
              "    <tr>\n",
              "      <th>2</th>\n",
              "      <td>21.01</td>\n",
              "      <td>3.50</td>\n",
              "      <td>Male</td>\n",
              "      <td>No</td>\n",
              "      <td>Sun</td>\n",
              "      <td>Dinner</td>\n",
              "      <td>3</td>\n",
              "    </tr>\n",
              "    <tr>\n",
              "      <th>3</th>\n",
              "      <td>23.68</td>\n",
              "      <td>3.31</td>\n",
              "      <td>Male</td>\n",
              "      <td>No</td>\n",
              "      <td>Sun</td>\n",
              "      <td>Dinner</td>\n",
              "      <td>2</td>\n",
              "    </tr>\n",
              "    <tr>\n",
              "      <th>4</th>\n",
              "      <td>24.59</td>\n",
              "      <td>3.61</td>\n",
              "      <td>Female</td>\n",
              "      <td>No</td>\n",
              "      <td>Sun</td>\n",
              "      <td>Dinner</td>\n",
              "      <td>4</td>\n",
              "    </tr>\n",
              "    <tr>\n",
              "      <th>5</th>\n",
              "      <td>25.29</td>\n",
              "      <td>4.71</td>\n",
              "      <td>Male</td>\n",
              "      <td>No</td>\n",
              "      <td>Sun</td>\n",
              "      <td>Dinner</td>\n",
              "      <td>4</td>\n",
              "    </tr>\n",
              "  </tbody>\n",
              "</table>\n",
              "</div>\n",
              "    <div class=\"colab-df-buttons\">\n",
              "\n",
              "  <div class=\"colab-df-container\">\n",
              "    <button class=\"colab-df-convert\" onclick=\"convertToInteractive('df-dd1e98d5-3e0f-4184-9df4-750d3dff8229')\"\n",
              "            title=\"Convert this dataframe to an interactive table.\"\n",
              "            style=\"display:none;\">\n",
              "\n",
              "  <svg xmlns=\"http://www.w3.org/2000/svg\" height=\"24px\" viewBox=\"0 -960 960 960\">\n",
              "    <path d=\"M120-120v-720h720v720H120Zm60-500h600v-160H180v160Zm220 220h160v-160H400v160Zm0 220h160v-160H400v160ZM180-400h160v-160H180v160Zm440 0h160v-160H620v160ZM180-180h160v-160H180v160Zm440 0h160v-160H620v160Z\"/>\n",
              "  </svg>\n",
              "    </button>\n",
              "\n",
              "  <style>\n",
              "    .colab-df-container {\n",
              "      display:flex;\n",
              "      gap: 12px;\n",
              "    }\n",
              "\n",
              "    .colab-df-convert {\n",
              "      background-color: #E8F0FE;\n",
              "      border: none;\n",
              "      border-radius: 50%;\n",
              "      cursor: pointer;\n",
              "      display: none;\n",
              "      fill: #1967D2;\n",
              "      height: 32px;\n",
              "      padding: 0 0 0 0;\n",
              "      width: 32px;\n",
              "    }\n",
              "\n",
              "    .colab-df-convert:hover {\n",
              "      background-color: #E2EBFA;\n",
              "      box-shadow: 0px 1px 2px rgba(60, 64, 67, 0.3), 0px 1px 3px 1px rgba(60, 64, 67, 0.15);\n",
              "      fill: #174EA6;\n",
              "    }\n",
              "\n",
              "    .colab-df-buttons div {\n",
              "      margin-bottom: 4px;\n",
              "    }\n",
              "\n",
              "    [theme=dark] .colab-df-convert {\n",
              "      background-color: #3B4455;\n",
              "      fill: #D2E3FC;\n",
              "    }\n",
              "\n",
              "    [theme=dark] .colab-df-convert:hover {\n",
              "      background-color: #434B5C;\n",
              "      box-shadow: 0px 1px 3px 1px rgba(0, 0, 0, 0.15);\n",
              "      filter: drop-shadow(0px 1px 2px rgba(0, 0, 0, 0.3));\n",
              "      fill: #FFFFFF;\n",
              "    }\n",
              "  </style>\n",
              "\n",
              "    <script>\n",
              "      const buttonEl =\n",
              "        document.querySelector('#df-dd1e98d5-3e0f-4184-9df4-750d3dff8229 button.colab-df-convert');\n",
              "      buttonEl.style.display =\n",
              "        google.colab.kernel.accessAllowed ? 'block' : 'none';\n",
              "\n",
              "      async function convertToInteractive(key) {\n",
              "        const element = document.querySelector('#df-dd1e98d5-3e0f-4184-9df4-750d3dff8229');\n",
              "        const dataTable =\n",
              "          await google.colab.kernel.invokeFunction('convertToInteractive',\n",
              "                                                    [key], {});\n",
              "        if (!dataTable) return;\n",
              "\n",
              "        const docLinkHtml = 'Like what you see? Visit the ' +\n",
              "          '<a target=\"_blank\" href=https://colab.research.google.com/notebooks/data_table.ipynb>data table notebook</a>'\n",
              "          + ' to learn more about interactive tables.';\n",
              "        element.innerHTML = '';\n",
              "        dataTable['output_type'] = 'display_data';\n",
              "        await google.colab.output.renderOutput(dataTable, element);\n",
              "        const docLink = document.createElement('div');\n",
              "        docLink.innerHTML = docLinkHtml;\n",
              "        element.appendChild(docLink);\n",
              "      }\n",
              "    </script>\n",
              "  </div>\n",
              "\n",
              "\n",
              "<div id=\"df-3636b885-b0c1-4922-8b61-31357c97ff3c\">\n",
              "  <button class=\"colab-df-quickchart\" onclick=\"quickchart('df-3636b885-b0c1-4922-8b61-31357c97ff3c')\"\n",
              "            title=\"Suggest charts\"\n",
              "            style=\"display:none;\">\n",
              "\n",
              "<svg xmlns=\"http://www.w3.org/2000/svg\" height=\"24px\"viewBox=\"0 0 24 24\"\n",
              "     width=\"24px\">\n",
              "    <g>\n",
              "        <path d=\"M19 3H5c-1.1 0-2 .9-2 2v14c0 1.1.9 2 2 2h14c1.1 0 2-.9 2-2V5c0-1.1-.9-2-2-2zM9 17H7v-7h2v7zm4 0h-2V7h2v10zm4 0h-2v-4h2v4z\"/>\n",
              "    </g>\n",
              "</svg>\n",
              "  </button>\n",
              "\n",
              "<style>\n",
              "  .colab-df-quickchart {\n",
              "      --bg-color: #E8F0FE;\n",
              "      --fill-color: #1967D2;\n",
              "      --hover-bg-color: #E2EBFA;\n",
              "      --hover-fill-color: #174EA6;\n",
              "      --disabled-fill-color: #AAA;\n",
              "      --disabled-bg-color: #DDD;\n",
              "  }\n",
              "\n",
              "  [theme=dark] .colab-df-quickchart {\n",
              "      --bg-color: #3B4455;\n",
              "      --fill-color: #D2E3FC;\n",
              "      --hover-bg-color: #434B5C;\n",
              "      --hover-fill-color: #FFFFFF;\n",
              "      --disabled-bg-color: #3B4455;\n",
              "      --disabled-fill-color: #666;\n",
              "  }\n",
              "\n",
              "  .colab-df-quickchart {\n",
              "    background-color: var(--bg-color);\n",
              "    border: none;\n",
              "    border-radius: 50%;\n",
              "    cursor: pointer;\n",
              "    display: none;\n",
              "    fill: var(--fill-color);\n",
              "    height: 32px;\n",
              "    padding: 0;\n",
              "    width: 32px;\n",
              "  }\n",
              "\n",
              "  .colab-df-quickchart:hover {\n",
              "    background-color: var(--hover-bg-color);\n",
              "    box-shadow: 0 1px 2px rgba(60, 64, 67, 0.3), 0 1px 3px 1px rgba(60, 64, 67, 0.15);\n",
              "    fill: var(--button-hover-fill-color);\n",
              "  }\n",
              "\n",
              "  .colab-df-quickchart-complete:disabled,\n",
              "  .colab-df-quickchart-complete:disabled:hover {\n",
              "    background-color: var(--disabled-bg-color);\n",
              "    fill: var(--disabled-fill-color);\n",
              "    box-shadow: none;\n",
              "  }\n",
              "\n",
              "  .colab-df-spinner {\n",
              "    border: 2px solid var(--fill-color);\n",
              "    border-color: transparent;\n",
              "    border-bottom-color: var(--fill-color);\n",
              "    animation:\n",
              "      spin 1s steps(1) infinite;\n",
              "  }\n",
              "\n",
              "  @keyframes spin {\n",
              "    0% {\n",
              "      border-color: transparent;\n",
              "      border-bottom-color: var(--fill-color);\n",
              "      border-left-color: var(--fill-color);\n",
              "    }\n",
              "    20% {\n",
              "      border-color: transparent;\n",
              "      border-left-color: var(--fill-color);\n",
              "      border-top-color: var(--fill-color);\n",
              "    }\n",
              "    30% {\n",
              "      border-color: transparent;\n",
              "      border-left-color: var(--fill-color);\n",
              "      border-top-color: var(--fill-color);\n",
              "      border-right-color: var(--fill-color);\n",
              "    }\n",
              "    40% {\n",
              "      border-color: transparent;\n",
              "      border-right-color: var(--fill-color);\n",
              "      border-top-color: var(--fill-color);\n",
              "    }\n",
              "    60% {\n",
              "      border-color: transparent;\n",
              "      border-right-color: var(--fill-color);\n",
              "    }\n",
              "    80% {\n",
              "      border-color: transparent;\n",
              "      border-right-color: var(--fill-color);\n",
              "      border-bottom-color: var(--fill-color);\n",
              "    }\n",
              "    90% {\n",
              "      border-color: transparent;\n",
              "      border-bottom-color: var(--fill-color);\n",
              "    }\n",
              "  }\n",
              "</style>\n",
              "\n",
              "  <script>\n",
              "    async function quickchart(key) {\n",
              "      const quickchartButtonEl =\n",
              "        document.querySelector('#' + key + ' button');\n",
              "      quickchartButtonEl.disabled = true;  // To prevent multiple clicks.\n",
              "      quickchartButtonEl.classList.add('colab-df-spinner');\n",
              "      try {\n",
              "        const charts = await google.colab.kernel.invokeFunction(\n",
              "            'suggestCharts', [key], {});\n",
              "      } catch (error) {\n",
              "        console.error('Error during call to suggestCharts:', error);\n",
              "      }\n",
              "      quickchartButtonEl.classList.remove('colab-df-spinner');\n",
              "      quickchartButtonEl.classList.add('colab-df-quickchart-complete');\n",
              "    }\n",
              "    (() => {\n",
              "      let quickchartButtonEl =\n",
              "        document.querySelector('#df-3636b885-b0c1-4922-8b61-31357c97ff3c button');\n",
              "      quickchartButtonEl.style.display =\n",
              "        google.colab.kernel.accessAllowed ? 'block' : 'none';\n",
              "    })();\n",
              "  </script>\n",
              "</div>\n",
              "\n",
              "    </div>\n",
              "  </div>\n"
            ],
            "application/vnd.google.colaboratory.intrinsic+json": {
              "type": "dataframe",
              "variable_name": "tips",
              "summary": "{\n  \"name\": \"tips\",\n  \"rows\": 244,\n  \"fields\": [\n    {\n      \"column\": \"total_bill\",\n      \"properties\": {\n        \"dtype\": \"number\",\n        \"std\": 8.902411954856856,\n        \"min\": 3.07,\n        \"max\": 50.81,\n        \"num_unique_values\": 229,\n        \"samples\": [\n          22.12,\n          20.23,\n          14.78\n        ],\n        \"semantic_type\": \"\",\n        \"description\": \"\"\n      }\n    },\n    {\n      \"column\": \"tip\",\n      \"properties\": {\n        \"dtype\": \"number\",\n        \"std\": 1.3836381890011822,\n        \"min\": 1.0,\n        \"max\": 10.0,\n        \"num_unique_values\": 123,\n        \"samples\": [\n          3.35,\n          1.5,\n          6.73\n        ],\n        \"semantic_type\": \"\",\n        \"description\": \"\"\n      }\n    },\n    {\n      \"column\": \"sex\",\n      \"properties\": {\n        \"dtype\": \"category\",\n        \"num_unique_values\": 2,\n        \"samples\": [\n          \"Male\",\n          \"Female\"\n        ],\n        \"semantic_type\": \"\",\n        \"description\": \"\"\n      }\n    },\n    {\n      \"column\": \"smoker\",\n      \"properties\": {\n        \"dtype\": \"category\",\n        \"num_unique_values\": 2,\n        \"samples\": [\n          \"Yes\",\n          \"No\"\n        ],\n        \"semantic_type\": \"\",\n        \"description\": \"\"\n      }\n    },\n    {\n      \"column\": \"day\",\n      \"properties\": {\n        \"dtype\": \"category\",\n        \"num_unique_values\": 4,\n        \"samples\": [\n          \"Sat\",\n          \"Fri\"\n        ],\n        \"semantic_type\": \"\",\n        \"description\": \"\"\n      }\n    },\n    {\n      \"column\": \"time\",\n      \"properties\": {\n        \"dtype\": \"category\",\n        \"num_unique_values\": 2,\n        \"samples\": [\n          \"Lunch\",\n          \"Dinner\"\n        ],\n        \"semantic_type\": \"\",\n        \"description\": \"\"\n      }\n    },\n    {\n      \"column\": \"size\",\n      \"properties\": {\n        \"dtype\": \"number\",\n        \"std\": 0,\n        \"min\": 1,\n        \"max\": 6,\n        \"num_unique_values\": 6,\n        \"samples\": [\n          2,\n          3\n        ],\n        \"semantic_type\": \"\",\n        \"description\": \"\"\n      }\n    }\n  ]\n}"
            }
          },
          "metadata": {},
          "execution_count": 46
        }
      ]
    },
    {
      "cell_type": "markdown",
      "source": [
        " (i) Write a Python function that calculates their skewness.\n"
      ],
      "metadata": {
        "id": "C2axrmqdRZf8"
      }
    },
    {
      "cell_type": "code",
      "source": [
        "from scipy.stats import skew\n",
        "\n",
        "def skewness_calculator(item):\n",
        "\n",
        "  skewness = skew(item)\n",
        "\n",
        "  return skewness"
      ],
      "metadata": {
        "id": "g4gzLt80RTOG"
      },
      "execution_count": 47,
      "outputs": []
    },
    {
      "cell_type": "code",
      "source": [
        "total_bill_skewness = skewness_calculator(tips['total_bill'])\n",
        "total_bill_skewness"
      ],
      "metadata": {
        "colab": {
          "base_uri": "https://localhost:8080/"
        },
        "id": "DFluncOPR20I",
        "outputId": "89469561-ecba-4bdf-f7d9-90095bff7e62"
      },
      "execution_count": 48,
      "outputs": [
        {
          "output_type": "execute_result",
          "data": {
            "text/plain": [
              "1.1262346334818638"
            ]
          },
          "metadata": {},
          "execution_count": 48
        }
      ]
    },
    {
      "cell_type": "code",
      "source": [
        "tip_skewness = skewness_calculator(tips['tip'])\n",
        "tip_skewness"
      ],
      "metadata": {
        "colab": {
          "base_uri": "https://localhost:8080/"
        },
        "id": "JXlsmp2ySW_2",
        "outputId": "fc0ce3fd-e022-4d7b-a1a2-744bcdfe936c"
      },
      "execution_count": 49,
      "outputs": [
        {
          "output_type": "execute_result",
          "data": {
            "text/plain": [
              "1.4564266884221506"
            ]
          },
          "metadata": {},
          "execution_count": 49
        }
      ]
    },
    {
      "cell_type": "markdown",
      "source": [
        "(ii) Create a program that determines whether the columns exhibit positive skewness, negative skewness, or is\n",
        "approximately symmetric."
      ],
      "metadata": {
        "id": "eI-z9EsuSk-6"
      }
    },
    {
      "cell_type": "code",
      "source": [
        "def check_skewness(col_skewness):\n",
        "  if col_skewness > 0:\n",
        "    return \"Positive skewness (Right skew)\"\n",
        "  elif col_skewness < 0:\n",
        "    return \"Negative skewness (Left skew)\"\n",
        "  else:\n",
        "    return \"Symmetric Distribution\""
      ],
      "metadata": {
        "id": "AQ3rrw6tSd1e"
      },
      "execution_count": 50,
      "outputs": []
    },
    {
      "cell_type": "code",
      "source": [
        "check_skewness(tip_skewness)"
      ],
      "metadata": {
        "colab": {
          "base_uri": "https://localhost:8080/",
          "height": 35
        },
        "id": "tx1KfimiT7Ui",
        "outputId": "bfc04360-c851-44c6-d90e-5c86b078d64f"
      },
      "execution_count": 51,
      "outputs": [
        {
          "output_type": "execute_result",
          "data": {
            "text/plain": [
              "'Positive skewness (Right skew)'"
            ],
            "application/vnd.google.colaboratory.intrinsic+json": {
              "type": "string"
            }
          },
          "metadata": {},
          "execution_count": 51
        }
      ]
    },
    {
      "cell_type": "markdown",
      "source": [
        " (iii) Write a function that calculates the covariance between two columns."
      ],
      "metadata": {
        "id": "-h9aUZGMUOWy"
      }
    },
    {
      "cell_type": "code",
      "source": [
        "def calculate_covariance(col1, col2):\n",
        "\n",
        "  cov = np.cov(col1, col2)\n",
        "\n",
        "  return cov[1,0]"
      ],
      "metadata": {
        "id": "lY8sTT9rT_Ej"
      },
      "execution_count": 52,
      "outputs": []
    },
    {
      "cell_type": "code",
      "source": [
        "calculate_covariance(tips['total_bill'], tips['tip'])"
      ],
      "metadata": {
        "colab": {
          "base_uri": "https://localhost:8080/"
        },
        "id": "Gd8wllYYU7pP",
        "outputId": "4f2eb2e0-d022-4aa9-ec4d-2b0778b96738"
      },
      "execution_count": 53,
      "outputs": [
        {
          "output_type": "execute_result",
          "data": {
            "text/plain": [
              "8.323501629224854"
            ]
          },
          "metadata": {},
          "execution_count": 53
        }
      ]
    },
    {
      "cell_type": "markdown",
      "source": [
        "(iv) Implement a Python program that calculates the Pearson correlation coefficient between two columns."
      ],
      "metadata": {
        "id": "w1tq1URBWzLr"
      }
    },
    {
      "cell_type": "code",
      "source": [
        "def pearson_corrcoef(col1, col2):\n",
        "\n",
        "  pearson_correlationcoef = np.corrcoef(col1,col2)\n",
        "\n",
        "  return pearson_correlationcoef[0,1]"
      ],
      "metadata": {
        "id": "FDehPF3bVCWH"
      },
      "execution_count": 54,
      "outputs": []
    },
    {
      "cell_type": "code",
      "source": [
        "pearson_corrcoef(tips['total_bill'], tips['tip'])"
      ],
      "metadata": {
        "colab": {
          "base_uri": "https://localhost:8080/"
        },
        "id": "tmG2nJPdXVRo",
        "outputId": "6c72465f-c36f-4305-bb33-6d5d1d6e938a"
      },
      "execution_count": 55,
      "outputs": [
        {
          "output_type": "execute_result",
          "data": {
            "text/plain": [
              "0.6757341092113641"
            ]
          },
          "metadata": {},
          "execution_count": 55
        }
      ]
    },
    {
      "cell_type": "markdown",
      "source": [
        "  (v) Write a script to visualize the correlation between two specific columns in a Pandas DataFrame using\n",
        "scatter plots."
      ],
      "metadata": {
        "id": "mX5hzqKtXlY1"
      }
    },
    {
      "cell_type": "code",
      "source": [
        "plt.figure(figsize=(20,15))\n",
        "sns.scatterplot(data = tips, x = tips['total_bill'], y = tips['tip'], color='blue', alpha=0.8, edgecolor='k', linewidth=0.5)\n",
        "sns.regplot(x = tips['total_bill'], y = tips['tip'], data=tips, scatter=False, color='red', label='Trendline')\n",
        "\n",
        "plt.title(\"Scatter Plot Between 'total_bill' and 'tip' \")\n",
        "plt.xlabel(\"Total Bill\")\n",
        "plt.ylabel(\"Tip\")\n",
        "plt.legend()\n",
        "plt.grid(True)\n",
        "plt.tight_layout()\n",
        "plt.show()\n"
      ],
      "metadata": {
        "colab": {
          "base_uri": "https://localhost:8080/",
          "height": 579
        },
        "id": "fVGePer1XcJH",
        "outputId": "10fd91c0-56d5-4ac8-af92-48f139d5c55b"
      },
      "execution_count": 56,
      "outputs": [
        {
          "output_type": "display_data",
          "data": {
            "text/plain": [
              "<Figure size 2000x1500 with 1 Axes>"
            ],
            "image/png": "[encoded data removed]"
          },
          "metadata": {}
        }
      ]
    },
    {
      "cell_type": "markdown",
      "source": [
        "Que. 8) Write a Python function to calculate the probability density function (PDF) of a continuous random\n",
        "variable for a given normal distribution."
      ],
      "metadata": {
        "id": "y7dc6G14rNO0"
      }
    },
    {
      "cell_type": "code",
      "source": [
        "import scipy.stats as stats\n",
        "\n",
        "def normal_pdf(x, mean, std):\n",
        "  return stats.norm.pdf(x, loc = mean, scale = std)"
      ],
      "metadata": {
        "id": "-7kwkCg0YKH_"
      },
      "execution_count": 57,
      "outputs": []
    },
    {
      "cell_type": "code",
      "source": [
        "normal_pdf(1, 0 ,1)"
      ],
      "metadata": {
        "colab": {
          "base_uri": "https://localhost:8080/"
        },
        "id": "cgpXAMZAsNJw",
        "outputId": "ef465f2b-122c-4c56-9f42-08eafdc24624"
      },
      "execution_count": 58,
      "outputs": [
        {
          "output_type": "execute_result",
          "data": {
            "text/plain": [
              "0.24197072451914337"
            ]
          },
          "metadata": {},
          "execution_count": 58
        }
      ]
    },
    {
      "cell_type": "markdown",
      "source": [
        "Que. 9) Create a program to calculate the cumulative distribution function (CDF) of exponential distribution."
      ],
      "metadata": {
        "id": "HhlGY_JXub-d"
      }
    },
    {
      "cell_type": "code",
      "source": [
        "def exponencial_cdf(x, rate):\n",
        "  return stats.expon.cdf(x, scale = 1/rate)"
      ],
      "metadata": {
        "id": "YuAVNvDosVe-"
      },
      "execution_count": 59,
      "outputs": []
    },
    {
      "cell_type": "code",
      "source": [
        "exponencial_cdf(2, 1.5)"
      ],
      "metadata": {
        "colab": {
          "base_uri": "https://localhost:8080/"
        },
        "id": "16x8KVbGsmIX",
        "outputId": "b5f797d4-d25d-4aaf-8450-b9758b79c839"
      },
      "execution_count": 60,
      "outputs": [
        {
          "output_type": "execute_result",
          "data": {
            "text/plain": [
              "0.950212931632136"
            ]
          },
          "metadata": {},
          "execution_count": 60
        }
      ]
    },
    {
      "cell_type": "markdown",
      "source": [
        "Que. 10) Write a Python function to calculate the probability mass function (PMF) of Poisson distribution"
      ],
      "metadata": {
        "id": "yXFuOOu2w30d"
      }
    },
    {
      "cell_type": "code",
      "source": [
        "def poisson_pmf(k, rate):\n",
        "  return stats.poisson.pmf(k, mu = rate)\n",
        "\n",
        "# Here:\n",
        "# k (int or array-like): The number of events.\n",
        "# rate (float): The rate parameter (λ) of the Poisson distribution."
      ],
      "metadata": {
        "id": "rIpc-7xsw0EJ"
      },
      "execution_count": 61,
      "outputs": []
    },
    {
      "cell_type": "code",
      "source": [
        "poisson_pmf(3, 2.5)"
      ],
      "metadata": {
        "colab": {
          "base_uri": "https://localhost:8080/"
        },
        "id": "ALfr_M2HxMzP",
        "outputId": "c05a3018-fb35-4549-80e6-c1a655c7737b"
      },
      "execution_count": 62,
      "outputs": [
        {
          "output_type": "execute_result",
          "data": {
            "text/plain": [
              "0.21376301724973648"
            ]
          },
          "metadata": {},
          "execution_count": 62
        }
      ]
    },
    {
      "cell_type": "markdown",
      "source": [
        "Que. 11) A company wants to test if a new website layout leads to a higher conversion rate (percentage of visitors\n",
        "who make a purchase). They collect data from the old and new layouts to compare."
      ],
      "metadata": {
        "id": "xKUe2TcIxwEw"
      }
    },
    {
      "cell_type": "code",
      "source": [
        "import numpy as np\n",
        "\n",
        "# 50 purchases out of 1000 visitors\n",
        "\n",
        "old_layout = np.array([1] * 50 + [0] * 950)\n",
        "\n",
        "# 70 purchases out of 1000 visitors\n",
        "\n",
        "new_layout = np.array([1] * 70 + [0] * 930)"
      ],
      "metadata": {
        "id": "oS7ibUV1xp6E"
      },
      "execution_count": 63,
      "outputs": []
    },
    {
      "cell_type": "markdown",
      "source": [
        "Apply z-test to find which layout is successful."
      ],
      "metadata": {
        "id": "a80EovjVydoq"
      }
    },
    {
      "cell_type": "code",
      "source": [
        "import scipy.stats as stats\n",
        "\n",
        "# Here is the Data for Old Layout:\n",
        "old_layout = np.array([1] * 50 + [0] * 950)\n",
        "old_successes = np.sum(old_layout)\n",
        "old_n = len(old_layout)\n",
        "old_conversion_rate = old_successes / old_n\n",
        "\n",
        "# Here is the Data for New Layout:\n",
        "new_layout = np.array([1] * 70 + [0] * 950)\n",
        "new_successes = np.sum(new_layout)\n",
        "new_n = len(new_layout)\n",
        "new_conversion_rate = new_successes / new_n\n",
        "\n",
        "# Pooled conversion rate\n",
        "pooled_conversion_rate = (old_successes + new_successes) / (old_n + new_n)\n",
        "\n",
        "# Standard error\n",
        "standard_error = np.sqrt(pooled_conversion_rate * (1 - pooled_conversion_rate) * (1/old_n + 1/new_n))\n",
        "\n",
        "# z-score\n",
        "z_score = (new_conversion_rate - old_conversion_rate) / standard_error\n",
        "\n",
        "# p-value (two-tailed test)\n",
        "p_value = 2 * (1 - stats.norm.cdf(abs(z_score)))\n",
        "\n",
        "print(f\"Old Conversion Rate: {old_conversion_rate}\")\n",
        "print(f\"New Conversion Rate: {new_conversion_rate}\")\n",
        "print(f\"Z-Score: {z_score}\")\n",
        "print(f\"P-Value: {p_value}\")\n",
        "\n",
        "if p_value < 0.05:\n",
        "    print(\"The new layout is significantly different from the old layout.\")\n",
        "    if new_conversion_rate > old_conversion_rate:\n",
        "        print(\"The new layout leads to a higher conversion rate.\")\n",
        "    else:\n",
        "        print(\"The old layout leads to a higher conversion rate.\")\n",
        "else:\n",
        "    print(\"There is no significant difference between the old and new layouts.\")\n"
      ],
      "metadata": {
        "colab": {
          "base_uri": "https://localhost:8080/"
        },
        "id": "d1-mvPQ5yUhH",
        "outputId": "9817851e-85d7-4404-eda1-53cf8621a29a"
      },
      "execution_count": 64,
      "outputs": [
        {
          "output_type": "stream",
          "name": "stdout",
          "text": [
            "Old Conversion Rate: 0.05\n",
            "New Conversion Rate: 0.06862745098039216\n",
            "Z-Score: 1.7707684532520567\n",
            "P-Value: 0.07659921391926905\n",
            "There is no significant difference between the old and new layouts.\n"
          ]
        }
      ]
    },
    {
      "cell_type": "markdown",
      "source": [
        "Que. 12) A tutoring service claims that its program improves students' exam scores. A sample of students who\n",
        "participated in the program was taken, and their scores before and after the program were recorded.\n",
        "\n",
        "Implement z-test to find if the drug really works or not."
      ],
      "metadata": {
        "id": "3toAA97QGsAe"
      }
    },
    {
      "cell_type": "code",
      "source": [
        "before_program = np.array([75, 80, 85, 70, 90, 78, 92, 88, 82, 87])\n",
        "\n",
        "after_program = np.array([80, 85, 90, 80, 92, 80, 95, 90, 85, 88])\n",
        "\n",
        "# First we will find the difference between the before and after.\n",
        "\n",
        "difference = after_program - before_program\n",
        "\n",
        "# Number of data points\n",
        "n = len(difference)\n",
        "\n",
        "# Now we will find the mean and standard deviation of difference\n",
        "\n",
        "mean_difference = np.mean(difference)\n",
        "std_difference = np.std(difference, ddof = 1)\n",
        "\n",
        "# Standard Error\n",
        "standard_error = std_difference / np.sqrt(n)\n",
        "\n",
        "# ZScore\n",
        "zscore = mean_difference / standard_error\n",
        "\n",
        "# pvalue of two tail test\n",
        "pvalue = 2 * (1 - stats.norm.cdf(abs(zscore)))\n",
        "\n",
        "print(f\"Mean Difference: {mean_difference}\")\n",
        "print()\n",
        "print(f\"Standard Deviation of Differences: {std_difference}\")\n",
        "print()\n",
        "print(f\"Z-Score: {z_score}\")\n",
        "print()\n",
        "print(f\"P-Value: {p_value}\")\n",
        "print()\n",
        "\n",
        "if p_value < 0.05:\n",
        "    print(\"The tutoring program significantly improves students' exam scores.\")\n",
        "else:\n",
        "    print(\"There is no significant improvement in students' exam scores due to the tutoring program.\")"
      ],
      "metadata": {
        "id": "rc3nBf0O0ybH",
        "colab": {
          "base_uri": "https://localhost:8080/"
        },
        "outputId": "5959265e-ae72-4aba-90d0-c9c2d4ce4b71"
      },
      "execution_count": 65,
      "outputs": [
        {
          "output_type": "stream",
          "name": "stdout",
          "text": [
            "Mean Difference: 3.8\n",
            "\n",
            "Standard Deviation of Differences: 2.616188916046478\n",
            "\n",
            "Z-Score: 1.7707684532520567\n",
            "\n",
            "P-Value: 0.07659921391926905\n",
            "\n",
            "There is no significant improvement in students' exam scores due to the tutoring program.\n"
          ]
        }
      ]
    },
    {
      "cell_type": "markdown",
      "source": [
        "Que. 13) A pharmaceutical company wants to determine if a new drug is effective in reducing blood pressure. They\n",
        "conduct a study and record blood pressure measurements before and after administering the drug.\n",
        "\n",
        "Use z-test to find if the claims made by tutor are true or false."
      ],
      "metadata": {
        "id": "_k0JhSPtK4pg"
      }
    },
    {
      "cell_type": "code",
      "source": [
        "before_drug = np.array([145, 150, 140, 135, 155, 160, 152, 148, 130, 138])\n",
        "\n",
        "after_drug = np.array([130, 140, 132, 128, 145, 148, 138, 136, 125, 130])\n",
        "\n",
        "# Firstly we will find the difference in blood pressure before and after.\n",
        "diff = after_drug - before_drug\n",
        "\n",
        "# Number of data points.\n",
        "n = len(diff)\n",
        "\n",
        "# Mean and standard deviation of diff.\n",
        "mean_diff = np.mean(diff)\n",
        "std_diff = np.std(diff, ddof = 1)\n",
        "\n",
        "# Standard Error\n",
        "standard_error = std_diff / np.sqrt(n)\n",
        "\n",
        "# Zscore\n",
        "zscore = mean_diff / standard_error\n",
        "\n",
        "# p-value(two tail test)\n",
        "pvalue = 2 * (1 - stats.norm.cdf(abs(zscore)))\n",
        "\n",
        "print(f\"Mean Difference: {mean_diff}\")\n",
        "print()\n",
        "print(f\"Standard Deviation of Differences: {std_diff}\")\n",
        "print()\n",
        "print(f\"Z-Score: {z_score}\")\n",
        "print()\n",
        "print(f\"P-Value: {p_value}\")\n",
        "print()\n",
        "\n",
        "\n",
        "if pvalue < 0.05:\n",
        "  print(\"The new drug is significantly effective in reducing the blood pressure\")\n",
        "else:\n",
        "  print(\"The new drug is not effective significantly in reducing the blood presure.\")"
      ],
      "metadata": {
        "colab": {
          "base_uri": "https://localhost:8080/"
        },
        "id": "6RRG2BKOG3FC",
        "outputId": "132d6048-468c-40d2-a6e2-0c3b835a9091"
      },
      "execution_count": 66,
      "outputs": [
        {
          "output_type": "stream",
          "name": "stdout",
          "text": [
            "Mean Difference: -10.1\n",
            "\n",
            "Standard Deviation of Differences: 3.178049716414141\n",
            "\n",
            "Z-Score: 1.7707684532520567\n",
            "\n",
            "P-Value: 0.07659921391926905\n",
            "\n",
            "The new drug is significantly effective in reducing the blood pressure\n"
          ]
        }
      ]
    },
    {
      "cell_type": "markdown",
      "source": [
        "Que. 14)  A customer service department claims that their average response time is less than 5 minutes. A sample\n",
        "of recent customer interactions was taken, and the response times were recorded.\n",
        "\n",
        "Implement z-test to find the claims made by customer service department are true or false."
      ],
      "metadata": {
        "id": "uUUvUVwdNCna"
      }
    },
    {
      "cell_type": "code",
      "source": [
        "response_times = np.array([4.3, 3.8, 5.1, 4.9, 4.7, 4.2, 5.2, 4.5, 4.6, 4.4])\n",
        "\n",
        "# Given\n",
        "mean_population = 5\n",
        "\n",
        "# mean and std of sample\n",
        "mean_sample = np.mean(response_times)\n",
        "std_sample = np.std(response_times)\n",
        "\n",
        "# number of data points\n",
        "n = len(response_times)\n",
        "# standard error\n",
        "std_error = std_sample / np.sqrt(n)\n",
        "\n",
        "# Zscore\n",
        "zscore = (mean_sample - mean_population) / std_error\n",
        "\n",
        "# pvalue ( one tail test )\n",
        "\n",
        "pvalue = stats.norm.cdf(zscore)\n",
        "\n",
        "print(f\"Sample Mean: {mean_sample}\")\n",
        "print(f\"Sample Standard Deviation: {std_sample}\")\n",
        "print(f\"Z-Score: {zscore}\")\n",
        "print(f\"P-Value: {pvalue}\")\n",
        "\n",
        "if pvalue < 0.05:\n",
        "  print(\"The customer service department's claim is statistically significant.\")\n",
        "else:\n",
        "  print(\"There is no statistical evidence to support the customer service department's claim.\")"
      ],
      "metadata": {
        "colab": {
          "base_uri": "https://localhost:8080/"
        },
        "id": "qpEHRH2AMy0H",
        "outputId": "366a93b3-22ab-48a6-c9d4-31c44ceb6c72"
      },
      "execution_count": 67,
      "outputs": [
        {
          "output_type": "stream",
          "name": "stdout",
          "text": [
            "Sample Mean: 4.57\n",
            "Sample Standard Deviation: 0.4050925820105819\n",
            "Z-Score: -3.356712648559143\n",
            "P-Value: 0.00039437520387081387\n",
            "The customer service department's claim is statistically significant.\n"
          ]
        }
      ]
    },
    {
      "cell_type": "markdown",
      "source": [
        "Que. 15) A company is testing two different website layouts to see which one leads to higher click-through rates.\n",
        "Write a Python function to perform an A/B test analysis, including calculating the t-statistic, degrees of\n",
        "freedom, and p-value."
      ],
      "metadata": {
        "id": "ggnrApU7Rqex"
      }
    },
    {
      "cell_type": "code",
      "source": [
        "layout_a_clicks = [28, 32, 33, 29, 31, 34, 30, 35, 36, 37]\n",
        "\n",
        "layout_b_clicks = [40, 41, 38, 42, 39, 44, 43, 41, 45, 47]\n",
        "\n",
        "def ab_test_analysis(clicks_a, clicks_b):\n",
        "\n",
        "   # Convert to numpy arrays\n",
        "    clicks_a = np.array(clicks_a)\n",
        "    clicks_b = np.array(clicks_b)\n",
        "\n",
        "    # Calculate the means\n",
        "    mean_a = np.mean(clicks_a)\n",
        "    mean_b = np.mean(clicks_b)\n",
        "\n",
        "    # Calculate the standard deviations\n",
        "    std_a = np.std(clicks_a, ddof=1)\n",
        "    std_b = np.std(clicks_b, ddof=1)\n",
        "\n",
        "    # Number of observations\n",
        "    n_a = len(clicks_a)\n",
        "    n_b = len(clicks_b)\n",
        "\n",
        "    # Calculate the standard error of the mean difference\n",
        "    standard_error = np.sqrt(std_a**2/n_a + std_b**2/n_b)\n",
        "\n",
        "    # Calculate the t-statistic\n",
        "    t_statistic = (mean_b - mean_a) / standard_error\n",
        "\n",
        "    # Degrees of freedom\n",
        "    df = n_a + n_b - 2\n",
        "\n",
        "    # p-value (two-tailed test)\n",
        "    p_value = 2 * (1 - stats.t.cdf(np.abs(t_statistic), df))\n",
        "\n",
        "    return t_statistic, df, p_value"
      ],
      "metadata": {
        "id": "yrf16ORkQ_Lf"
      },
      "execution_count": 68,
      "outputs": []
    },
    {
      "cell_type": "code",
      "source": [
        "t_stat, degrees_of_freedom, p_val = ab_test_analysis(layout_a_clicks, layout_b_clicks)\n",
        "\n",
        "print(f\"T-Statistic: {t_stat}\")\n",
        "print(f\"Degrees of Freedom: {degrees_of_freedom}\")\n",
        "print(f\"P-Value: {p_val}\")\n",
        "\n",
        "if p_val < 0.05:\n",
        "    print(\"There is a statistically significant difference between the two layouts.\")\n",
        "else:\n",
        "    print(\"There is no statistically significant difference between the two layouts.\")"
      ],
      "metadata": {
        "colab": {
          "base_uri": "https://localhost:8080/"
        },
        "id": "Pj6K5DlMSoFp",
        "outputId": "de9e1b8e-c897-45fc-f4f2-49e924882501"
      },
      "execution_count": 69,
      "outputs": [
        {
          "output_type": "stream",
          "name": "stdout",
          "text": [
            "T-Statistic: 7.298102156175071\n",
            "Degrees of Freedom: 18\n",
            "P-Value: 8.833437608046779e-07\n",
            "There is a statistically significant difference between the two layouts.\n"
          ]
        }
      ]
    },
    {
      "cell_type": "markdown",
      "source": [
        "Que. 16) A pharmaceutical company wants to determine if a new drug is more effective than an existing drug in\n",
        "reducing cholesterol levels. Create a program to analyze the clinical trial data and calculate the t-statistic and p-value for the treatment effect."
      ],
      "metadata": {
        "id": "Nn_2kQqMLKj9"
      }
    },
    {
      "cell_type": "code",
      "source": [
        "existing_drug_levels = [180, 182, 175, 185, 178, 176, 172, 184, 179, 183]\n",
        "\n",
        "new_drug_levels = [170, 172, 165, 168, 175, 173, 170, 178, 172, 176]\n",
        "\n",
        "# Creating array of given data\n",
        "existing_drug_arr = np.array([180, 182, 175, 185, 178, 176, 172, 184, 179, 183])\n",
        "new_drug_arr = np.array([170, 172, 165, 168, 175, 173, 170, 178, 172, 176])\n",
        "\n",
        "# Finding Mean\n",
        "mean_existing_drug = np.mean(existing_drug_arr)\n",
        "mean_new_drug = np.mean(new_drug_arr)\n",
        "\n",
        "# Finding Standard deviation\n",
        "std_existing_drug = np.std(existing_drug_arr)\n",
        "std_new_drug = np.std(new_drug_arr)\n",
        "\n",
        "# Number of data point in each data\n",
        "n_existing_drug = len(existing_drug_arr)\n",
        "n_new_drug = len(new_drug_arr)\n",
        "\n",
        "# Standard Error\n",
        "standard_error = np.sqrt((std_existing_drug ** 2) /n_existing_drug  + (std_new_drug ** 2) / n_new_drug)\n",
        "\n",
        "# Degree of freedom\n",
        "dof = n_existing_drug + n_new_drug - 2\n",
        "\n",
        "# T-statistics\n",
        "t_statistics = (mean_existing_drug - mean_new_drug) / standard_error\n",
        "\n",
        "# p-value\n",
        "pvalue = 2 * (1 - stats.t.cdf(np.abs(t_statistics), dof))"
      ],
      "metadata": {
        "id": "GT95pGMtT284"
      },
      "execution_count": 70,
      "outputs": []
    },
    {
      "cell_type": "code",
      "source": [
        "print(\"t_statistics:\", t_statistics)\n",
        "print()\n",
        "print(\"p-value:\", pvalue)"
      ],
      "metadata": {
        "colab": {
          "base_uri": "https://localhost:8080/"
        },
        "id": "XFOF-q45N_ep",
        "outputId": "370450b0-e181-48c7-ce91-7e708d30d322"
      },
      "execution_count": 71,
      "outputs": [
        {
          "output_type": "stream",
          "name": "stdout",
          "text": [
            "t_statistics: 4.364450175013195\n",
            "\n",
            "p-value: 0.00037373609400592755\n"
          ]
        }
      ]
    },
    {
      "cell_type": "code",
      "source": [
        "if p_val < 0.05:\n",
        "    print(\"There is a statistically significant difference between the new and existing drug.\")\n",
        "else:\n",
        "    print(\"There is no statistically significant difference between the new and existing drug.\")"
      ],
      "metadata": {
        "colab": {
          "base_uri": "https://localhost:8080/"
        },
        "id": "qhFiiuVJOT5O",
        "outputId": "2ce9579f-952f-457b-86af-bf4d96f292d5"
      },
      "execution_count": 72,
      "outputs": [
        {
          "output_type": "stream",
          "name": "stdout",
          "text": [
            "There is a statistically significant difference between the new and existing drug.\n"
          ]
        }
      ]
    },
    {
      "cell_type": "markdown",
      "source": [
        "Que. 17) A school district introduces an educational intervention program to improve math scores. Write a Python\n",
        "function to analyze pre and post-intervention test scores, calculating the t-statistic and p-value to\n",
        "determine if the intervention had a significant impact."
      ],
      "metadata": {
        "id": "prP-qYoWSHyq"
      }
    },
    {
      "cell_type": "code",
      "source": [
        "pre_intervention_scores = [80, 85, 90, 75, 88, 82, 92, 78, 85, 87]\n",
        "\n",
        "post_intervention_scores = [90, 92, 88, 92, 95, 91, 96, 93, 89, 93]\n",
        "\n",
        "def analyze_intervention(pre_score, post_score):\n",
        "\n",
        "  # converting scores to array\n",
        "  pre_score = np.array([80, 85, 90, 75, 88, 82, 92, 78, 85, 87])\n",
        "  post_score = np.array([90, 92, 88, 92, 95, 91, 96, 93, 89, 93])\n",
        "\n",
        "  # differnce of scores\n",
        "  diff = pre_score - post_score\n",
        "\n",
        "  # mean and std of diff\n",
        "  mean_diff = np.mean(diff)\n",
        "  std_diff = np.std(diff)\n",
        "\n",
        "  # Calculating the standard error\n",
        "  standard_error = std_diff / np.sqrt(len(diff))\n",
        "\n",
        "  # Calculating the t-statistics\n",
        "  t_statistics = mean_diff / standard_error\n",
        "\n",
        "  # Degree of freedom\n",
        "  dof = len(diff) - 1\n",
        "\n",
        "  # Calculating the pvalue\n",
        "  p_value = 2 * (1 - stats.t.cdf(np.abs(t_statistics), dof))\n",
        "\n",
        "  return t_statistics, p_value"
      ],
      "metadata": {
        "id": "cgO1QVoAOiUX"
      },
      "execution_count": 73,
      "outputs": []
    },
    {
      "cell_type": "code",
      "source": [
        "t_stat, p_val = analyze_intervention(pre_intervention_scores, post_intervention_scores)"
      ],
      "metadata": {
        "id": "-dP4rq15U73f"
      },
      "execution_count": 74,
      "outputs": []
    },
    {
      "cell_type": "code",
      "source": [
        "print(f\"T-Statistic: {t_stat:.4f}\")\n",
        "print()\n",
        "print(f\"P-Value: {p_val:.4f}\")\n",
        "\n",
        "if p_val < 0.05:\n",
        "    print(\"The intervention had a statistically significant impact on math scores.\")\n",
        "else:\n",
        "    print(\"The intervention did not have a statistically significant impact on math scores.\")"
      ],
      "metadata": {
        "colab": {
          "base_uri": "https://localhost:8080/"
        },
        "id": "RMsFMKAcVK2W",
        "outputId": "d25425ab-0b38-4263-ee35-9117203b7efc"
      },
      "execution_count": 75,
      "outputs": [
        {
          "output_type": "stream",
          "name": "stdout",
          "text": [
            "T-Statistic: -4.6680\n",
            "\n",
            "P-Value: 0.0012\n",
            "The intervention had a statistically significant impact on math scores.\n"
          ]
        }
      ]
    },
    {
      "cell_type": "markdown",
      "source": [
        "Que. 18) An HR department wants to investigate if there's a gender-based salary gap within the company. Develop\n",
        "a program to analyze salary data, calculate the t-statistic, and determine if there's a statistically\n",
        "significant difference between the average salaries of male and female employees."
      ],
      "metadata": {
        "id": "CNFyk8CvOlR7"
      }
    },
    {
      "cell_type": "code",
      "source": [
        "# Generate synthetic salary data for male and female employees\n",
        "\n",
        "np.random.seed(0)  # For reproducibility\n",
        "\n",
        "male_salaries = np.random.normal(loc=50000, scale=10000, size=20)\n",
        "\n",
        "female_salaries = np.random.normal(loc=55000, scale=9000, size=20)\n",
        "\n",
        "male_salaries"
      ],
      "metadata": {
        "id": "C9RYuNX-VPU9",
        "colab": {
          "base_uri": "https://localhost:8080/"
        },
        "outputId": "b7564593-440e-4fdc-84c7-a1af2b749bac"
      },
      "execution_count": 76,
      "outputs": [
        {
          "output_type": "execute_result",
          "data": {
            "text/plain": [
              "array([67640.52345968, 54001.57208367, 59787.37984106, 72408.93199201,\n",
              "       68675.5799015 , 40227.22120124, 59500.88417526, 48486.42791702,\n",
              "       48967.81148206, 54105.98501938, 51440.43571161, 64542.73506963,\n",
              "       57610.37725147, 51216.75016493, 54438.63232745, 53336.74327374,\n",
              "       64940.79073158, 47948.41736234, 53130.67701651, 41459.04260698])"
            ]
          },
          "metadata": {},
          "execution_count": 76
        }
      ]
    },
    {
      "cell_type": "code",
      "source": [
        "def analyse_salary_gap(male_salaries, female_salaries):\n",
        "\n",
        "  # Mean of male and female salaries\n",
        "  mean_male = np.mean(male_salaries)\n",
        "  mean_female = np.mean(female_salaries)\n",
        "\n",
        "  # Standard deviation of male and female salaries\n",
        "  std_male = np.std(male_salaries)\n",
        "  std_female = np.std(female_salaries)\n",
        "\n",
        "  # Number of data point in male and female salaries\n",
        "  n_male = len(male_salaries)\n",
        "  n_female = len(female_salaries)\n",
        "\n",
        "  # Standard Error\n",
        "  s_e = np.sqrt( std_male**2 / n_male + std_female**2 / n_female)\n",
        "\n",
        "  # T-statistics\n",
        "  t_statistics = (mean_male - mean_female) / s_e\n",
        "\n",
        "  # Degrees of freedom (using the Welch-Satterthwaite equation)\n",
        "  df = ( (std_male**2/n_male + std_female**2/n_female)**2 /\n",
        "           ((std_male**2/n_male)**2/(n_male-1) + (std_female**2/n_female)**2/(n_female-1)) )\n",
        "\n",
        "  # P-value\n",
        "  pvalue = 2 * (1 - stats.t.cdf(np.abs(t_statistics), df))\n",
        "\n",
        "\n",
        "  return t_statistics, pvalue\n"
      ],
      "metadata": {
        "id": "GLPG25WKO8rR"
      },
      "execution_count": 77,
      "outputs": []
    },
    {
      "cell_type": "code",
      "source": [
        "# Analyze the salary gap\n",
        "t_stat, p_val = analyse_salary_gap(male_salaries, female_salaries)\n",
        "\n",
        "print(f\"T-Statistic: {t_stat:.4f}\")\n",
        "print(f\"P-Value: {p_val:.4f}\")\n",
        "\n",
        "if p_val < 0.05:\n",
        "    print(\"There is a statistically significant difference between the average salaries of male and female employees.\")\n",
        "else:\n",
        "    print(\"There is no statistically significant difference between the average salaries of male and female employees.\")"
      ],
      "metadata": {
        "colab": {
          "base_uri": "https://localhost:8080/"
        },
        "id": "8WX959pnRcUg",
        "outputId": "1ea3b871-d129-478a-c8b5-bf2a9018bd62"
      },
      "execution_count": 78,
      "outputs": [
        {
          "output_type": "stream",
          "name": "stdout",
          "text": [
            "T-Statistic: 0.0627\n",
            "P-Value: 0.9503\n",
            "There is no statistically significant difference between the average salaries of male and female employees.\n"
          ]
        }
      ]
    },
    {
      "cell_type": "markdown",
      "source": [
        "Que. 19) A manufacturer produces two different versions of a product and wants to compare their quality scores.\n",
        "Create a Python function to analyze quality assessment data, calculate the t-statistic, and decide\n",
        "whether there's a significant difference in quality between the two versions."
      ],
      "metadata": {
        "id": "sAq0Rg3XTSx-"
      }
    },
    {
      "cell_type": "code",
      "source": [
        "version1_scores = [85, 88, 82, 89, 87, 84, 90, 88, 85, 86, 91, 83, 87, 84, 89, 86, 84, 88, 85, 86, 89, 90, 87, 88, 85]\n",
        "\n",
        "version2_scores = [80, 78, 83, 81, 79, 82, 76, 80, 78, 81, 77, 82, 80, 79, 82, 79, 80, 81, 79, 82, 79, 78, 80, 81, 82]"
      ],
      "metadata": {
        "id": "izinLnMERg64"
      },
      "execution_count": 79,
      "outputs": []
    },
    {
      "cell_type": "code",
      "source": [
        "def analyse_quality(ver1, ver2):\n",
        "\n",
        "  # converting to array\n",
        "  ver1_score = np.array(ver1)\n",
        "  ver2_score = np.array(ver2)\n",
        "\n",
        "  # Calculation of mean\n",
        "  mean_ver1 = np.mean(ver1_score)\n",
        "  mean_ver2 = np.mean(ver2_score)\n",
        "\n",
        "  # Calculation of std\n",
        "  std_ver1 = np.std(ver1_score)\n",
        "  std_ver2 = np.std(ver2_score)\n",
        "\n",
        "  # Number of data point in ver1 and ver2\n",
        "  n_ver1 = len(ver1_score)\n",
        "  n_ver2 = len(ver2_score)\n",
        "\n",
        "  # Degrees of freedom (using the Welch-Satterthwaite equation)\n",
        "  df = ( (std_ver1**2/n_ver1 + std_ver2**2/n_ver2)**2 /\n",
        "           ((std_ver1**2/n_ver1)**2/(n_ver1-1) + (std_ver2**2/n_ver2)**2/(n_ver2-1)) )\n",
        "\n",
        "  # Caluation of standard error\n",
        "  s_e = np.sqrt(std_ver1**2 / n_ver2 + std_ver2**2 / n_ver2)\n",
        "\n",
        "  # t-statistics\n",
        "  tstats = (mean_ver1 - mean_ver2) / s_e\n",
        "\n",
        "  # p-value\n",
        "  pvalue = 2 * (1 - stats.t.cdf(np.abs(tstats), df))\n",
        "\n",
        "  return tstats, pvalue"
      ],
      "metadata": {
        "id": "D_XBhequTgbV"
      },
      "execution_count": 80,
      "outputs": []
    },
    {
      "cell_type": "code",
      "source": [
        "# Analyze the quality scores\n",
        "t_stat, p_val = analyse_quality(version1_scores, version2_scores)\n",
        "\n",
        "print(f\"T-Statistic: {t_stat:.4f}\")\n",
        "print(f\"P-Value: {p_val:.4f}\")\n",
        "\n",
        "if p_val < 0.05:\n",
        "    print(\"There is a statistically significant difference in quality between the two versions of the product.\")\n",
        "else:\n",
        "    print(\"There is no statistically significant difference in quality between the two versions of the product.\")"
      ],
      "metadata": {
        "colab": {
          "base_uri": "https://localhost:8080/"
        },
        "id": "5ZaDJ2MeW7dx",
        "outputId": "7bac4c00-9d25-4dc9-de3f-01f871e93df8"
      },
      "execution_count": 81,
      "outputs": [
        {
          "output_type": "stream",
          "name": "stdout",
          "text": [
            "T-Statistic: 11.5594\n",
            "P-Value: 0.0000\n",
            "There is a statistically significant difference in quality between the two versions of the product.\n"
          ]
        }
      ]
    },
    {
      "cell_type": "markdown",
      "source": [
        "Que. 20) A restaurant chain collects customer satisfaction scores for two different branches. Write a program to\n",
        "analyze the scores, calculate the t-statistic, and determine if there's a statistically significant difference in\n",
        "customer satisfaction between the branches."
      ],
      "metadata": {
        "id": "Q0UsiYc5KD_h"
      }
    },
    {
      "cell_type": "code",
      "source": [
        "branch_a_scores = [4, 5, 3, 4, 5, 4, 5, 3, 4, 4, 5, 4, 4, 3, 4, 5, 5, 4, 3, 4, 5, 4, 3, 5, 4, 4, 5, 3, 4, 5, 4]\n",
        "\n",
        "branch_b_scores = [3, 4, 2, 3, 4, 3, 4, 2, 3, 3, 4, 3, 3, 2, 3, 4, 4, 3, 2, 3, 4, 3, 2, 4, 3, 3, 4, 2, 3, 4, 3]\n",
        "\n",
        "def analyse_customer_satisfaction(branch_a, branch_b):\n",
        "\n",
        "  # Converting into array\n",
        "  branch_a = np.array(branch_a)\n",
        "  branch_b = np.array(branch_b)\n",
        "\n",
        "  # Mean for each branch scores\n",
        "  mean_a = np.mean(branch_a)\n",
        "  mean_b = np.mean(branch_b)\n",
        "\n",
        "  # Standard Deviation for each branch\n",
        "\n",
        "  std_a = np.std(branch_a)\n",
        "  std_b = np.std(branch_b)\n",
        "\n",
        "  # Number of data points for each branch score\n",
        "\n",
        "  n_a = len(branch_a)\n",
        "  n_b = len(branch_b)\n",
        "\n",
        "  # Now calculation of standard error\n",
        "\n",
        "  s_e = np.sqrt(std_a**2/n_a + std_b**2/n_b)\n",
        "\n",
        "  # Degree of freedom\n",
        "\n",
        "  dof = ( (std_a**2/n_a + std_b**2/n_b)**2 /\n",
        "           ((std_a**2/n_a)**2/(n_b-1) + (std_b**2/n_b)**2/(n_b-1)) )\n",
        "\n",
        "  # Calculation of t statistics\n",
        "\n",
        "  tstats = (mean_a - mean_b) / s_e\n",
        "\n",
        "  # Calculation of pvalue\n",
        "\n",
        "  pvalue = 2 * (1 - stats.t.cdf(np.abs(tstats), dof))\n",
        "\n",
        "  return tstats, pvalue"
      ],
      "metadata": {
        "id": "bz2rcjHdXFXC"
      },
      "execution_count": 82,
      "outputs": []
    },
    {
      "cell_type": "code",
      "source": [
        "tstats, pvalue = analyse_customer_satisfaction(branch_a_scores, branch_b_scores)"
      ],
      "metadata": {
        "id": "lwXKZe1YMWAx"
      },
      "execution_count": 83,
      "outputs": []
    },
    {
      "cell_type": "code",
      "source": [
        "pvalue"
      ],
      "metadata": {
        "colab": {
          "base_uri": "https://localhost:8080/"
        },
        "id": "ReIl-SrgNWFK",
        "outputId": "2e0cbbd2-eae8-4cd3-e6de-d1c68489ecae"
      },
      "execution_count": 84,
      "outputs": [
        {
          "output_type": "execute_result",
          "data": {
            "text/plain": [
              "6.320764851519556e-07"
            ]
          },
          "metadata": {},
          "execution_count": 84
        }
      ]
    },
    {
      "cell_type": "code",
      "source": [
        "print(f\"T-Statistic: {tstats:.4f}\")\n",
        "print(f\"P-Value: {pvalue:.4f}\")\n",
        "\n",
        "if p_val < 0.05:\n",
        "    print(\"There is a statistically significant difference in custome statisfaction score between the two branches\")\n",
        "else:\n",
        "    print(\"There is not a statistically significant difference in custome statisfaction score between the two branches\")"
      ],
      "metadata": {
        "colab": {
          "base_uri": "https://localhost:8080/"
        },
        "id": "Hh6WLX61MgHm",
        "outputId": "4229dfc7-dc62-44c9-fcd3-33e55901b4ad"
      },
      "execution_count": 85,
      "outputs": [
        {
          "output_type": "stream",
          "name": "stdout",
          "text": [
            "T-Statistic: 5.5707\n",
            "P-Value: 0.0000\n",
            "There is a statistically significant difference in custome statisfaction score between the two branches\n"
          ]
        }
      ]
    },
    {
      "cell_type": "markdown",
      "source": [
        "Que. 21) A political analyst wants to determine if there is a significant association between age groups and voter\n",
        "preferences (Candidate A or Candidate B). They collect data from a sample of 500 voters and classify\n",
        "them into different age groups and candidate preferences. Perform a Chi-Square test to determine if\n",
        "there is a significant association between age groups and voter preferences."
      ],
      "metadata": {
        "id": "g3R8oS6kNrPe"
      }
    },
    {
      "cell_type": "code",
      "source": [
        "import numpy as np\n",
        "import pandas as pd\n",
        "from scipy.stats import chi2_contingency"
      ],
      "metadata": {
        "id": "_hB_vjlHPJrL"
      },
      "execution_count": 86,
      "outputs": []
    },
    {
      "cell_type": "code",
      "source": [
        "np.random.seed(0)\n",
        "\n",
        "age_groups = np.random.choice([ '18-30' , '31-50' , '51+'], size=30)\n",
        "\n",
        "voter_preferences = np.random.choice(['Candidate A', 'Candidate B'], size=30)\n",
        "\n",
        "# Create a DataFrame\n",
        "data = pd.DataFrame({'Age Group': age_groups, 'Voter Preference': voter_preferences})\n",
        "\n",
        "# Create a contingency table\n",
        "contingency_table = pd.crosstab(data['Age Group'], data['Voter Preference'])\n",
        "\n",
        "# Perform the Chi-Square test\n",
        "chi2, p, dof, expected = chi2_contingency(contingency_table)\n",
        "\n",
        "print(\"Contingency Table:\")\n",
        "print(contingency_table)\n",
        "print(\"\\nChi-Square Test Statistic:\", chi2)\n",
        "print(\"P-Value:\", p)\n",
        "print(\"Degrees of Freedom:\", dof)\n",
        "\n",
        "if p < 0.05:\n",
        "    print(\"There is a statistically significant association between age groups and voter preferences.\")\n",
        "else:\n",
        "    print(\"There is no statistically significant association between age groups and voter preferences.\")"
      ],
      "metadata": {
        "colab": {
          "base_uri": "https://localhost:8080/"
        },
        "id": "6IXJAZbRNQlY",
        "outputId": "40399a35-4d0c-44b8-c6d3-73a4dd6fc61b"
      },
      "execution_count": 87,
      "outputs": [
        {
          "output_type": "stream",
          "name": "stdout",
          "text": [
            "Contingency Table:\n",
            "Voter Preference  Candidate A  Candidate B\n",
            "Age Group                                 \n",
            "18-30                       4            8\n",
            "31-50                       6            5\n",
            "51+                         4            3\n",
            "\n",
            "Chi-Square Test Statistic: 1.4401669758812612\n",
            "P-Value: 0.48671161971286614\n",
            "Degrees of Freedom: 2\n",
            "There is no statistically significant association between age groups and voter preferences.\n"
          ]
        }
      ]
    },
    {
      "cell_type": "markdown",
      "source": [
        "Que. 22) A company conducted a customer satisfaction survey to determine if there is a significant relationship\n",
        "between product satisfaction levels (Satisfied, Neutral, Dissatisfied) and the region where customers are\n",
        "located (East, West, North, South). The survey data is summarized in a contingency table. Conduct a Chi-Square test to determine if there is a significant relationship between product satisfaction levels and\n",
        "customer regions."
      ],
      "metadata": {
        "id": "1qdLJ4eNlmYu"
      }
    },
    {
      "cell_type": "code",
      "source": [
        "#Sample data: Product satisfaction levels (rows) vs. Customer regions (columns)\n",
        "\n",
        "data = np.array([[50, 30, 40, 20], [30, 40, 30, 50], [20, 30, 40, 30]])\n",
        "data"
      ],
      "metadata": {
        "id": "qqeRQ5-cPHSi",
        "colab": {
          "base_uri": "https://localhost:8080/"
        },
        "outputId": "412c2ad8-7114-4cef-a467-9910d8de3746"
      },
      "execution_count": 88,
      "outputs": [
        {
          "output_type": "execute_result",
          "data": {
            "text/plain": [
              "array([[50, 30, 40, 20],\n",
              "       [30, 40, 30, 50],\n",
              "       [20, 30, 40, 30]])"
            ]
          },
          "metadata": {},
          "execution_count": 88
        }
      ]
    },
    {
      "cell_type": "code",
      "source": [
        "import numpy as np\n",
        "from scipy.stats import chi2_contingency\n",
        "\n",
        "# Given data\n",
        "data = np.array([[50, 30, 40, 20], [30, 40, 30, 50], [20, 30, 40, 30]])\n",
        "\n",
        "# Perform Chi-Square test\n",
        "chi2, p_value, dof, expected = chi2_contingency(data)\n",
        "\n",
        "# Print results\n",
        "print(f\"Chi-Square statistic: {chi2:.4f}\")\n",
        "print(f\"p-value: {p_value:.4f}\")\n",
        "print(f\"Degrees of freedom: {dof}\")\n",
        "\n",
        "# Interpret results\n",
        "alpha = 0.05  # Significance level\n",
        "if p_value < alpha:\n",
        "    print(\"Reject the null hypothesis. There is a significant relationship between product satisfaction levels and customer regions.\")\n",
        "else:\n",
        "    print(\"Fail to reject the null hypothesis. There is not enough evidence to conclude a significant relationship between product satisfaction levels and customer regions.\")\n",
        "\n",
        "# Print expected frequencies\n",
        "print(\"\\nExpected frequencies:\")\n",
        "print(expected)"
      ],
      "metadata": {
        "colab": {
          "base_uri": "https://localhost:8080/"
        },
        "id": "3VIjWHjVmMYH",
        "outputId": "2e111f70-8de7-4de3-fdc1-988117ff3687"
      },
      "execution_count": 89,
      "outputs": [
        {
          "output_type": "stream",
          "name": "stdout",
          "text": [
            "Chi-Square statistic: 27.7771\n",
            "p-value: 0.0001\n",
            "Degrees of freedom: 6\n",
            "Reject the null hypothesis. There is a significant relationship between product satisfaction levels and customer regions.\n",
            "\n",
            "Expected frequencies:\n",
            "[[34.14634146 34.14634146 37.56097561 34.14634146]\n",
            " [36.58536585 36.58536585 40.24390244 36.58536585]\n",
            " [29.26829268 29.26829268 32.19512195 29.26829268]]\n"
          ]
        }
      ]
    },
    {
      "cell_type": "markdown",
      "source": [
        "Que. 23)  A company implemented an employee training program to improve job performance (Effective, Neutral,\n",
        "Ineffective). After the training, they collected data from a sample of employees and classified them based\n",
        "on their job performance before and after the training. Perform a Chi-Square test to determine if there is a\n",
        "significant difference between job performance levels before and after the training."
      ],
      "metadata": {
        "id": "Too7ZT1Jm7r8"
      }
    },
    {
      "cell_type": "code",
      "source": [
        "# Sample data: Job performance levels before (rows) and after (columns) training\n",
        "\n",
        "data = np.array([[50, 30, 20], [30, 40, 30], [20, 30, 40]])\n",
        "data"
      ],
      "metadata": {
        "colab": {
          "base_uri": "https://localhost:8080/"
        },
        "id": "2pmeL8AAnC1p",
        "outputId": "8619e4e9-43ee-4e98-941d-4cd8043686e7"
      },
      "execution_count": 90,
      "outputs": [
        {
          "output_type": "execute_result",
          "data": {
            "text/plain": [
              "array([[50, 30, 20],\n",
              "       [30, 40, 30],\n",
              "       [20, 30, 40]])"
            ]
          },
          "metadata": {},
          "execution_count": 90
        }
      ]
    },
    {
      "cell_type": "code",
      "source": [
        "import numpy as np\n",
        "from scipy.stats import chi2_contingency\n",
        "\n",
        "# Given data\n",
        "data = np.array([[50, 30, 20], [30, 40, 30], [20, 30, 40]])\n",
        "\n",
        "# Perform Chi-Square test\n",
        "chi2, p_value, dof, expected = chi2_contingency(data)\n",
        "\n",
        "# Print results\n",
        "print(f\"Chi-Square statistic: {chi2:.4f}\")\n",
        "print(f\"p-value: {p_value:.4f}\")\n",
        "print(f\"Degrees of freedom: {dof}\")\n",
        "\n",
        "# Interpret results\n",
        "alpha = 0.05  # Significance level\n",
        "if p_value < alpha:\n",
        "    print(\"Reject the null hypothesis. There is a significant difference between job performance levels before and after the training.\")\n",
        "else:\n",
        "    print(\"Fail to reject the null hypothesis. There is not enough evidence to conclude a significant difference between job performance levels before and after the training.\")\n",
        "\n",
        "# Print expected frequencies\n",
        "print(\"\\nExpected frequencies:\")\n",
        "print(expected)"
      ],
      "metadata": {
        "colab": {
          "base_uri": "https://localhost:8080/"
        },
        "id": "nV6nF1lsnInd",
        "outputId": "ed13e865-ab35-4c1e-de30-f9dd72bf7044"
      },
      "execution_count": 91,
      "outputs": [
        {
          "output_type": "stream",
          "name": "stdout",
          "text": [
            "Chi-Square statistic: 22.1617\n",
            "p-value: 0.0002\n",
            "Degrees of freedom: 4\n",
            "Reject the null hypothesis. There is a significant difference between job performance levels before and after the training.\n",
            "\n",
            "Expected frequencies:\n",
            "[[34.48275862 34.48275862 31.03448276]\n",
            " [34.48275862 34.48275862 31.03448276]\n",
            " [31.03448276 31.03448276 27.93103448]]\n"
          ]
        }
      ]
    },
    {
      "cell_type": "markdown",
      "source": [
        "Que. 24)  A company produces three different versions of a product: Standard, Premium, and Deluxe. The\n",
        "company wants to determine if there is a significant difference in customer satisfaction scores among the\n",
        "three product versions. They conducted a survey and collected customer satisfaction scores for each\n",
        "version from a random sample of customers. Perform an ANOVA test to determine if there is a significant\n",
        "difference in customer satisfaction scores."
      ],
      "metadata": {
        "id": "_E69mqpgoR4N"
      }
    },
    {
      "cell_type": "code",
      "source": [
        "# Sample data: Customer satisfaction scores for each product version\n",
        "\n",
        "standard_scores = [80, 85, 90, 78, 88, 82, 92, 78, 85, 87]\n",
        "\n",
        "premium_scores = [90, 92, 88, 92, 95, 91, 96, 93, 89, 93]\n",
        "\n",
        "deluxe_scores = [95, 98, 92, 97, 96, 94, 98, 97, 92, 99]"
      ],
      "metadata": {
        "id": "EkS5aR6EoOJE"
      },
      "execution_count": 92,
      "outputs": []
    },
    {
      "cell_type": "code",
      "source": [
        "import numpy as np\n",
        "from scipy import stats\n",
        "\n",
        "# Sample data\n",
        "standard_scores = [80, 85, 90, 78, 88, 82, 92, 78, 85, 87]\n",
        "premium_scores = [90, 92, 88, 92, 95, 91, 96, 93, 89, 93]\n",
        "deluxe_scores = [95, 98, 92, 97, 96, 94, 98, 97, 92, 99]\n",
        "\n",
        "# Perform one-way ANOVA\n",
        "f_statistic, p_value = stats.f_oneway(standard_scores, premium_scores, deluxe_scores)\n",
        "\n",
        "# Print results\n",
        "print(f\"F-statistic: {f_statistic:.4f}\")\n",
        "print(f\"p-value: {p_value:.4f}\")\n",
        "\n",
        "# Interpret results\n",
        "alpha = 0.05  # Significance level\n",
        "if p_value < alpha:\n",
        "    print(\"Reject the null hypothesis. There is a significant difference in customer satisfaction scores among the three product versions.\")\n",
        "else:\n",
        "    print(\"Fail to reject the null hypothesis. There is not enough evidence to conclude a significant difference in customer satisfaction scores among the three product versions.\")\n",
        "\n",
        "# Calculate means for each group\n",
        "mean_standard = np.mean(standard_scores)\n",
        "mean_premium = np.mean(premium_scores)\n",
        "mean_deluxe = np.mean(deluxe_scores)\n",
        "\n",
        "print(f\"\\nMean satisfaction scores:\")\n",
        "print(f\"Standard: {mean_standard:.2f}\")\n",
        "print(f\"Premium: {mean_premium:.2f}\")\n",
        "print(f\"Deluxe: {mean_deluxe:.2f}\")"
      ],
      "metadata": {
        "colab": {
          "base_uri": "https://localhost:8080/"
        },
        "id": "piQSqvLhoYJD",
        "outputId": "e87165ae-52f5-497c-af6c-efec8374de13"
      },
      "execution_count": 93,
      "outputs": [
        {
          "output_type": "stream",
          "name": "stdout",
          "text": [
            "F-statistic: 27.0356\n",
            "p-value: 0.0000\n",
            "Reject the null hypothesis. There is a significant difference in customer satisfaction scores among the three product versions.\n",
            "\n",
            "Mean satisfaction scores:\n",
            "Standard: 84.50\n",
            "Premium: 91.90\n",
            "Deluxe: 95.80\n"
          ]
        }
      ]
    },
    {
      "cell_type": "code",
      "source": [],
      "metadata": {
        "id": "uSgyVTC_osr1"
      },
      "execution_count": 93,
      "outputs": []
    }
  ]
}